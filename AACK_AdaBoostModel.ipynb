{
  "nbformat": 4,
  "nbformat_minor": 0,
  "metadata": {
    "colab": {
      "provenance": []
    },
    "kernelspec": {
      "name": "python3",
      "display_name": "Python 3"
    },
    "language_info": {
      "name": "python"
    }
  },
  "cells": [
    {
      "cell_type": "code",
      "execution_count": 1,
      "metadata": {
        "id": "HiGcg9w3HdzS"
      },
      "outputs": [],
      "source": [
        "import statsmodels.formula.api as smf\n",
        "import pandas as pd\n",
        "import numpy as np\n",
        "from sklearn.metrics import roc_curve, auc\n",
        "import seaborn as sns\n",
        "import matplotlib.pyplot as plt\n",
        "from sklearn.preprocessing import StandardScaler\n",
        "\n",
        "# sklearn has 100s of models - grouped in sublibraries, such as linear_model\n",
        "from sklearn.linear_model import LogisticRegression, LinearRegression\n",
        "\n",
        "# sklearn has many tools for cleaning/processing data, also grouped in sublibraries\n",
        "# splitting one dataset into train and test, computing cross validation score, cross validated prediction\n",
        "from sklearn.model_selection import train_test_split, cross_val_predict, cross_val_score\n",
        "\n",
        "#sklearn modules for computing the performance metrics\n",
        "from sklearn.metrics import accuracy_score, mean_absolute_error, mean_squared_error, r2_score, \\\n",
        "roc_curve, auc, precision_score, recall_score, confusion_matrix\n",
        "\n",
        "import pandas as pd\n",
        "import numpy as np\n",
        "import seaborn as sns\n",
        "import matplotlib.pyplot as plt\n",
        "from sklearn.metrics import mean_squared_error\n",
        "from sklearn.model_selection import cross_val_score,train_test_split\n",
        "from sklearn.model_selection import KFold\n",
        "from sklearn.tree import DecisionTreeRegressor,DecisionTreeClassifier\n",
        "from sklearn.model_selection import GridSearchCV, ParameterGrid\n",
        "from sklearn.ensemble import BaggingRegressor,BaggingClassifier,RandomForestRegressor,RandomForestClassifier\n",
        "from sklearn.linear_model import LinearRegression,LogisticRegression\n",
        "from sklearn.neighbors import KNeighborsRegressor\n",
        "from sklearn.metrics import roc_curve, precision_recall_curve, auc, make_scorer, recall_score, \\\n",
        "accuracy_score, precision_score, confusion_matrix, mean_squared_error, r2_score\n",
        "\n",
        "import itertools as it\n",
        "\n",
        "#Libraries for visualizing trees\n",
        "from sklearn.tree import export_graphviz \n",
        "from six import StringIO\n",
        "from IPython.display import Image  \n",
        "import pydotplus\n",
        "import time as time\n",
        "\n",
        "import pandas as pd\n",
        "import numpy as np\n",
        "import seaborn as sns\n",
        "import matplotlib.pyplot as plt\n",
        "from sklearn.metrics import mean_squared_error\n",
        "from sklearn.model_selection import cross_val_score,train_test_split, KFold, cross_val_predict\n",
        "from sklearn.metrics import mean_squared_error,r2_score,roc_curve,auc,precision_recall_curve, accuracy_score, \\\n",
        "recall_score, precision_score, confusion_matrix\n",
        "from sklearn.tree import DecisionTreeRegressor,DecisionTreeClassifier\n",
        "from sklearn.model_selection import GridSearchCV, ParameterGrid, StratifiedKFold\n",
        "from sklearn.ensemble import BaggingRegressor,BaggingClassifier,AdaBoostRegressor,AdaBoostClassifier\n",
        "from sklearn.linear_model import LinearRegression,LogisticRegression\n",
        "from sklearn.neighbors import KNeighborsRegressor\n",
        "import itertools as it\n",
        "import time as time"
      ]
    },
    {
      "cell_type": "code",
      "source": [
        "df = pd.read_csv(\"water_potability.csv\")\n",
        "df.head()"
      ],
      "metadata": {
        "colab": {
          "base_uri": "https://localhost:8080/",
          "height": 206
        },
        "id": "Cah6eLlgI8Db",
        "outputId": "25fb077a-ee71-4a06-9c73-2eae95430b3c"
      },
      "execution_count": 2,
      "outputs": [
        {
          "output_type": "execute_result",
          "data": {
            "text/plain": [
              "         ph    Hardness        Solids  Chloramines     Sulfate  Conductivity  \\\n",
              "0       NaN  204.890455  20791.318981     7.300212  368.516441    564.308654   \n",
              "1  3.716080  129.422921  18630.057858     6.635246         NaN    592.885359   \n",
              "2  8.099124  224.236259  19909.541732     9.275884         NaN    418.606213   \n",
              "3  8.316766  214.373394  22018.417441     8.059332  356.886136    363.266516   \n",
              "4  9.092223  181.101509  17978.986339     6.546600  310.135738    398.410813   \n",
              "\n",
              "   Organic_carbon  Trihalomethanes  Turbidity  Potability  \n",
              "0       10.379783        86.990970   2.963135           0  \n",
              "1       15.180013        56.329076   4.500656           0  \n",
              "2       16.868637        66.420093   3.055934           0  \n",
              "3       18.436524       100.341674   4.628771           0  \n",
              "4       11.558279        31.997993   4.075075           0  "
            ],
            "text/html": [
              "\n",
              "  <div id=\"df-226ec403-bca0-4ead-819d-4322cb76deac\">\n",
              "    <div class=\"colab-df-container\">\n",
              "      <div>\n",
              "<style scoped>\n",
              "    .dataframe tbody tr th:only-of-type {\n",
              "        vertical-align: middle;\n",
              "    }\n",
              "\n",
              "    .dataframe tbody tr th {\n",
              "        vertical-align: top;\n",
              "    }\n",
              "\n",
              "    .dataframe thead th {\n",
              "        text-align: right;\n",
              "    }\n",
              "</style>\n",
              "<table border=\"1\" class=\"dataframe\">\n",
              "  <thead>\n",
              "    <tr style=\"text-align: right;\">\n",
              "      <th></th>\n",
              "      <th>ph</th>\n",
              "      <th>Hardness</th>\n",
              "      <th>Solids</th>\n",
              "      <th>Chloramines</th>\n",
              "      <th>Sulfate</th>\n",
              "      <th>Conductivity</th>\n",
              "      <th>Organic_carbon</th>\n",
              "      <th>Trihalomethanes</th>\n",
              "      <th>Turbidity</th>\n",
              "      <th>Potability</th>\n",
              "    </tr>\n",
              "  </thead>\n",
              "  <tbody>\n",
              "    <tr>\n",
              "      <th>0</th>\n",
              "      <td>NaN</td>\n",
              "      <td>204.890455</td>\n",
              "      <td>20791.318981</td>\n",
              "      <td>7.300212</td>\n",
              "      <td>368.516441</td>\n",
              "      <td>564.308654</td>\n",
              "      <td>10.379783</td>\n",
              "      <td>86.990970</td>\n",
              "      <td>2.963135</td>\n",
              "      <td>0</td>\n",
              "    </tr>\n",
              "    <tr>\n",
              "      <th>1</th>\n",
              "      <td>3.716080</td>\n",
              "      <td>129.422921</td>\n",
              "      <td>18630.057858</td>\n",
              "      <td>6.635246</td>\n",
              "      <td>NaN</td>\n",
              "      <td>592.885359</td>\n",
              "      <td>15.180013</td>\n",
              "      <td>56.329076</td>\n",
              "      <td>4.500656</td>\n",
              "      <td>0</td>\n",
              "    </tr>\n",
              "    <tr>\n",
              "      <th>2</th>\n",
              "      <td>8.099124</td>\n",
              "      <td>224.236259</td>\n",
              "      <td>19909.541732</td>\n",
              "      <td>9.275884</td>\n",
              "      <td>NaN</td>\n",
              "      <td>418.606213</td>\n",
              "      <td>16.868637</td>\n",
              "      <td>66.420093</td>\n",
              "      <td>3.055934</td>\n",
              "      <td>0</td>\n",
              "    </tr>\n",
              "    <tr>\n",
              "      <th>3</th>\n",
              "      <td>8.316766</td>\n",
              "      <td>214.373394</td>\n",
              "      <td>22018.417441</td>\n",
              "      <td>8.059332</td>\n",
              "      <td>356.886136</td>\n",
              "      <td>363.266516</td>\n",
              "      <td>18.436524</td>\n",
              "      <td>100.341674</td>\n",
              "      <td>4.628771</td>\n",
              "      <td>0</td>\n",
              "    </tr>\n",
              "    <tr>\n",
              "      <th>4</th>\n",
              "      <td>9.092223</td>\n",
              "      <td>181.101509</td>\n",
              "      <td>17978.986339</td>\n",
              "      <td>6.546600</td>\n",
              "      <td>310.135738</td>\n",
              "      <td>398.410813</td>\n",
              "      <td>11.558279</td>\n",
              "      <td>31.997993</td>\n",
              "      <td>4.075075</td>\n",
              "      <td>0</td>\n",
              "    </tr>\n",
              "  </tbody>\n",
              "</table>\n",
              "</div>\n",
              "      <button class=\"colab-df-convert\" onclick=\"convertToInteractive('df-226ec403-bca0-4ead-819d-4322cb76deac')\"\n",
              "              title=\"Convert this dataframe to an interactive table.\"\n",
              "              style=\"display:none;\">\n",
              "        \n",
              "  <svg xmlns=\"http://www.w3.org/2000/svg\" height=\"24px\"viewBox=\"0 0 24 24\"\n",
              "       width=\"24px\">\n",
              "    <path d=\"M0 0h24v24H0V0z\" fill=\"none\"/>\n",
              "    <path d=\"M18.56 5.44l.94 2.06.94-2.06 2.06-.94-2.06-.94-.94-2.06-.94 2.06-2.06.94zm-11 1L8.5 8.5l.94-2.06 2.06-.94-2.06-.94L8.5 2.5l-.94 2.06-2.06.94zm10 10l.94 2.06.94-2.06 2.06-.94-2.06-.94-.94-2.06-.94 2.06-2.06.94z\"/><path d=\"M17.41 7.96l-1.37-1.37c-.4-.4-.92-.59-1.43-.59-.52 0-1.04.2-1.43.59L10.3 9.45l-7.72 7.72c-.78.78-.78 2.05 0 2.83L4 21.41c.39.39.9.59 1.41.59.51 0 1.02-.2 1.41-.59l7.78-7.78 2.81-2.81c.8-.78.8-2.07 0-2.86zM5.41 20L4 18.59l7.72-7.72 1.47 1.35L5.41 20z\"/>\n",
              "  </svg>\n",
              "      </button>\n",
              "      \n",
              "  <style>\n",
              "    .colab-df-container {\n",
              "      display:flex;\n",
              "      flex-wrap:wrap;\n",
              "      gap: 12px;\n",
              "    }\n",
              "\n",
              "    .colab-df-convert {\n",
              "      background-color: #E8F0FE;\n",
              "      border: none;\n",
              "      border-radius: 50%;\n",
              "      cursor: pointer;\n",
              "      display: none;\n",
              "      fill: #1967D2;\n",
              "      height: 32px;\n",
              "      padding: 0 0 0 0;\n",
              "      width: 32px;\n",
              "    }\n",
              "\n",
              "    .colab-df-convert:hover {\n",
              "      background-color: #E2EBFA;\n",
              "      box-shadow: 0px 1px 2px rgba(60, 64, 67, 0.3), 0px 1px 3px 1px rgba(60, 64, 67, 0.15);\n",
              "      fill: #174EA6;\n",
              "    }\n",
              "\n",
              "    [theme=dark] .colab-df-convert {\n",
              "      background-color: #3B4455;\n",
              "      fill: #D2E3FC;\n",
              "    }\n",
              "\n",
              "    [theme=dark] .colab-df-convert:hover {\n",
              "      background-color: #434B5C;\n",
              "      box-shadow: 0px 1px 3px 1px rgba(0, 0, 0, 0.15);\n",
              "      filter: drop-shadow(0px 1px 2px rgba(0, 0, 0, 0.3));\n",
              "      fill: #FFFFFF;\n",
              "    }\n",
              "  </style>\n",
              "\n",
              "      <script>\n",
              "        const buttonEl =\n",
              "          document.querySelector('#df-226ec403-bca0-4ead-819d-4322cb76deac button.colab-df-convert');\n",
              "        buttonEl.style.display =\n",
              "          google.colab.kernel.accessAllowed ? 'block' : 'none';\n",
              "\n",
              "        async function convertToInteractive(key) {\n",
              "          const element = document.querySelector('#df-226ec403-bca0-4ead-819d-4322cb76deac');\n",
              "          const dataTable =\n",
              "            await google.colab.kernel.invokeFunction('convertToInteractive',\n",
              "                                                     [key], {});\n",
              "          if (!dataTable) return;\n",
              "\n",
              "          const docLinkHtml = 'Like what you see? Visit the ' +\n",
              "            '<a target=\"_blank\" href=https://colab.research.google.com/notebooks/data_table.ipynb>data table notebook</a>'\n",
              "            + ' to learn more about interactive tables.';\n",
              "          element.innerHTML = '';\n",
              "          dataTable['output_type'] = 'display_data';\n",
              "          await google.colab.output.renderOutput(dataTable, element);\n",
              "          const docLink = document.createElement('div');\n",
              "          docLink.innerHTML = docLinkHtml;\n",
              "          element.appendChild(docLink);\n",
              "        }\n",
              "      </script>\n",
              "    </div>\n",
              "  </div>\n",
              "  "
            ]
          },
          "metadata": {},
          "execution_count": 2
        }
      ]
    },
    {
      "cell_type": "code",
      "source": [
        "df.shape"
      ],
      "metadata": {
        "colab": {
          "base_uri": "https://localhost:8080/"
        },
        "id": "RlZ50AVlI9i-",
        "outputId": "5842b523-f205-4e27-b43c-7d0b92c520c8"
      },
      "execution_count": 3,
      "outputs": [
        {
          "output_type": "execute_result",
          "data": {
            "text/plain": [
              "(3276, 10)"
            ]
          },
          "metadata": {},
          "execution_count": 3
        }
      ]
    },
    {
      "cell_type": "code",
      "source": [
        "df.info()"
      ],
      "metadata": {
        "colab": {
          "base_uri": "https://localhost:8080/"
        },
        "id": "R-wc0GAsI_O6",
        "outputId": "28b68adc-9b90-42a7-919f-67c445321eb6"
      },
      "execution_count": 4,
      "outputs": [
        {
          "output_type": "stream",
          "name": "stdout",
          "text": [
            "<class 'pandas.core.frame.DataFrame'>\n",
            "RangeIndex: 3276 entries, 0 to 3275\n",
            "Data columns (total 10 columns):\n",
            " #   Column           Non-Null Count  Dtype  \n",
            "---  ------           --------------  -----  \n",
            " 0   ph               2785 non-null   float64\n",
            " 1   Hardness         3276 non-null   float64\n",
            " 2   Solids           3276 non-null   float64\n",
            " 3   Chloramines      3276 non-null   float64\n",
            " 4   Sulfate          2495 non-null   float64\n",
            " 5   Conductivity     3276 non-null   float64\n",
            " 6   Organic_carbon   3276 non-null   float64\n",
            " 7   Trihalomethanes  3114 non-null   float64\n",
            " 8   Turbidity        3276 non-null   float64\n",
            " 9   Potability       3276 non-null   int64  \n",
            "dtypes: float64(9), int64(1)\n",
            "memory usage: 256.1 KB\n"
          ]
        }
      ]
    },
    {
      "cell_type": "code",
      "source": [
        "df['Potability'].value_counts()"
      ],
      "metadata": {
        "colab": {
          "base_uri": "https://localhost:8080/"
        },
        "id": "9EzbF32CJA_P",
        "outputId": "6f355f09-ba69-4f5e-fb93-56b253f15180"
      },
      "execution_count": 5,
      "outputs": [
        {
          "output_type": "execute_result",
          "data": {
            "text/plain": [
              "0    1998\n",
              "1    1278\n",
              "Name: Potability, dtype: int64"
            ]
          },
          "metadata": {},
          "execution_count": 5
        }
      ]
    },
    {
      "cell_type": "code",
      "source": [
        "df.isnull().sum()"
      ],
      "metadata": {
        "colab": {
          "base_uri": "https://localhost:8080/"
        },
        "id": "7M1FgsW0JC0h",
        "outputId": "0647ef06-30ce-45f1-d2bb-e7e57fc00da8"
      },
      "execution_count": 6,
      "outputs": [
        {
          "output_type": "execute_result",
          "data": {
            "text/plain": [
              "ph                 491\n",
              "Hardness             0\n",
              "Solids               0\n",
              "Chloramines          0\n",
              "Sulfate            781\n",
              "Conductivity         0\n",
              "Organic_carbon       0\n",
              "Trihalomethanes    162\n",
              "Turbidity            0\n",
              "Potability           0\n",
              "dtype: int64"
            ]
          },
          "metadata": {},
          "execution_count": 6
        }
      ]
    },
    {
      "cell_type": "code",
      "source": [
        "df = df.dropna()"
      ],
      "metadata": {
        "id": "KZEVHg1bJEI8"
      },
      "execution_count": 7,
      "outputs": []
    },
    {
      "cell_type": "code",
      "source": [
        "df.shape"
      ],
      "metadata": {
        "colab": {
          "base_uri": "https://localhost:8080/"
        },
        "id": "jjAxu50lJHgt",
        "outputId": "9dfa5b0b-d18a-44da-d8a5-f38ff6a5507a"
      },
      "execution_count": 8,
      "outputs": [
        {
          "output_type": "execute_result",
          "data": {
            "text/plain": [
              "(2011, 10)"
            ]
          },
          "metadata": {},
          "execution_count": 8
        }
      ]
    },
    {
      "cell_type": "code",
      "source": [
        "df['Potability'].value_counts()"
      ],
      "metadata": {
        "colab": {
          "base_uri": "https://localhost:8080/"
        },
        "id": "eAfL3LEBJJEh",
        "outputId": "c0ebb25b-7c8c-4251-83c8-719fb1c1ed2f"
      },
      "execution_count": 9,
      "outputs": [
        {
          "output_type": "execute_result",
          "data": {
            "text/plain": [
              "0    1200\n",
              "1     811\n",
              "Name: Potability, dtype: int64"
            ]
          },
          "metadata": {},
          "execution_count": 9
        }
      ]
    },
    {
      "cell_type": "code",
      "source": [
        "# Separating the predictors and response - THIS IS HOW ALL SKLEARN OBJECTS ACCEPT DATA (different from statsmodels)\n",
        "y = df.Potability\n",
        "X = df.drop(\"Potability\", axis = 1)\n",
        "\n",
        "y_copy= y.copy()\n",
        "X_copy= X.copy()"
      ],
      "metadata": {
        "id": "R47L1ZDcJKTR"
      },
      "execution_count": 10,
      "outputs": []
    },
    {
      "cell_type": "code",
      "source": [
        "# Creating training and test data\n",
        "    # 80-20 split, which is usual - 70-30 split is also fine, 90-10 is fine if the dataset is large\n",
        "    # random_state to set a random seed for the splitting - reproducible results\n",
        "X_train, X_test, y_train, y_test = train_test_split(X, y, test_size = 0.2, random_state = 45)"
      ],
      "metadata": {
        "id": "T_INxLTFOYPJ"
      },
      "execution_count": 23,
      "outputs": []
    },
    {
      "cell_type": "code",
      "source": [
        "# With linear/logistic regression in scikit-learn, especially when the predictors have different orders \n",
        "# of magn., scaling is necessary. This is to enable the training algo. which we did not cover. (Gradient Descent)\n",
        "scaler = StandardScaler().fit(X_train)\n",
        "X_train_scaled = scaler.transform(X_train)\n",
        "X_test_scaled = scaler.transform(X_test) # Do NOT refit the scaler with the test data, just transform it."
      ],
      "metadata": {
        "id": "IuRiCYx0NUf_"
      },
      "execution_count": 12,
      "outputs": []
    },
    {
      "cell_type": "code",
      "source": [
        "X_train_scaled"
      ],
      "metadata": {
        "colab": {
          "base_uri": "https://localhost:8080/"
        },
        "id": "zxZXFsxVN354",
        "outputId": "c59ee701-3ac8-43fb-cf74-e288caef1bc9"
      },
      "execution_count": 13,
      "outputs": [
        {
          "output_type": "execute_result",
          "data": {
            "text/plain": [
              "array([[ 1.40988021,  0.08410039, -0.87326617, ...,  0.25717681,\n",
              "        -0.20251671,  0.21947083],\n",
              "       [ 0.10827608, -0.37436851,  1.31284197, ...,  0.24183658,\n",
              "         0.1368435 ,  0.38327758],\n",
              "       [-0.47803511, -0.28548108,  1.2580836 , ..., -0.03424445,\n",
              "        -0.39671863,  1.21912458],\n",
              "       ...,\n",
              "       [-0.55435364, -0.03276292, -0.28846576, ...,  0.85603713,\n",
              "         1.1486063 ,  0.30648323],\n",
              "       [ 0.18600105,  0.71652627, -0.48866141, ...,  0.1405776 ,\n",
              "         0.04092565, -1.00402665],\n",
              "       [ 0.41467372,  0.8569861 , -0.26923293, ...,  0.23874297,\n",
              "         0.50490716, -0.33406845]])"
            ]
          },
          "metadata": {},
          "execution_count": 13
        }
      ]
    },
    {
      "cell_type": "code",
      "source": [],
      "metadata": {
        "id": "NU-qW4rZP0hN"
      },
      "execution_count": 13,
      "outputs": []
    },
    {
      "cell_type": "code",
      "source": [
        "def get_models():\n",
        "    models = dict()\n",
        "    # define number of trees to consider\n",
        "    n_trees = [10, 50, 100, 300, 500, 1000, 5000]\n",
        "    for n in n_trees:\n",
        "        models[str(n)] = AdaBoostClassifier(n_estimators=n,random_state=1)\n",
        "    return models\n",
        "\n",
        "# evaluate a given model using cross-validation\n",
        "def evaluate_model(model, X, y):\n",
        "    # define the evaluation procedure\n",
        "    cv = StratifiedKFold(n_splits=10, shuffle=True, random_state=1)\n",
        "    # evaluate the model and collect the results\n",
        "    scores = cross_val_score(model, X, y, scoring='accuracy', cv=cv, n_jobs=-1)\n",
        "    return scores\n",
        "\n",
        "# get the models to evaluate\n",
        "models = get_models()\n",
        "# evaluate the models and store results\n",
        "results, names = list(), list()\n",
        "for name, model in models.items():\n",
        "    # evaluate the model\n",
        "    scores = evaluate_model(model, X, y)\n",
        "    # store the results\n",
        "    results.append(scores)\n",
        "    names.append(name)\n",
        "    # summarize the performance along the way\n",
        "    print('>%s %.3f (%.3f)' % (name, np.mean(scores), np.std(scores)))\n",
        "# plot model performance for comparison\n",
        "plt.boxplot(results, labels=names, showmeans=True)\n",
        "plt.ylabel('Cross validation error',fontsize=15)\n",
        "plt.xlabel('Number of trees',fontsize=15)"
      ],
      "metadata": {
        "colab": {
          "base_uri": "https://localhost:8080/",
          "height": 598
        },
        "id": "07ohIx-ZOARi",
        "outputId": "e395c2ea-f219-46c8-df96-61b2b98429f3"
      },
      "execution_count": 14,
      "outputs": [
        {
          "output_type": "stream",
          "name": "stdout",
          "text": [
            ">10 0.611 (0.019)\n",
            ">50 0.587 (0.024)\n",
            ">100 0.595 (0.030)\n",
            ">300 0.565 (0.030)\n",
            ">500 0.564 (0.040)\n",
            ">1000 0.571 (0.039)\n",
            ">5000 0.570 (0.035)\n"
          ]
        },
        {
          "output_type": "execute_result",
          "data": {
            "text/plain": [
              "Text(0.5, 0, 'Number of trees')"
            ]
          },
          "metadata": {},
          "execution_count": 14
        },
        {
          "output_type": "display_data",
          "data": {
            "text/plain": [
              "<Figure size 640x480 with 1 Axes>"
            ],
            "image/png": "[encoded data removed]"
          },
          "metadata": {}
        }
      ]
    },
    {
      "cell_type": "code",
      "source": [
        "# get a list of models to evaluate\n",
        "def get_models():\n",
        "    models = dict()\n",
        "    # explore depths from 1 to 10\n",
        "    for i in range(1,21):\n",
        "        # define base model\n",
        "        base = DecisionTreeClassifier(max_depth=i)\n",
        "        # define ensemble model\n",
        "        models[str(i)] = AdaBoostClassifier(base_estimator=base)\n",
        "    return models\n",
        "\n",
        "# evaluate a given model using cross-validation\n",
        "def evaluate_model(model, X, y):\n",
        "    # define the evaluation procedure\n",
        "    cv = StratifiedKFold(n_splits=10, shuffle=True, random_state=1)\n",
        "    # evaluate the model and collect the results\n",
        "    scores = cross_val_score(model, X, y, scoring='accuracy', cv=cv, n_jobs=-1)\n",
        "    return scores\n",
        "\n",
        "# get the models to evaluate\n",
        "models = get_models()\n",
        "# evaluate the models and store results\n",
        "results, names = list(), list()\n",
        "for name, model in models.items():\n",
        "    # evaluate the model\n",
        "    scores = evaluate_model(model, X, y)\n",
        "    # store the results\n",
        "    results.append(scores)\n",
        "    names.append(name)\n",
        "    # summarize the performance along the way\n",
        "    print('>%s %.3f (%.3f)' % (name, np.mean(scores), np.std(scores)))\n",
        "plt.boxplot(results, labels=names, showmeans=True)\n",
        "plt.ylabel('Accuracy',fontsize=15)\n",
        "plt.xlabel('Depth of each tree',fontsize=15)"
      ],
      "metadata": {
        "colab": {
          "base_uri": "https://localhost:8080/",
          "height": 830
        },
        "id": "zZ8zJZ3ErKMU",
        "outputId": "d7ff2e34-5fb3-4877-e3a1-fea58ca08f4f"
      },
      "execution_count": 15,
      "outputs": [
        {
          "output_type": "stream",
          "name": "stdout",
          "text": [
            ">1 0.587 (0.024)\n",
            ">2 0.606 (0.028)\n",
            ">3 0.592 (0.029)\n",
            ">4 0.589 (0.019)\n",
            ">5 0.602 (0.032)\n",
            ">6 0.639 (0.024)\n",
            ">7 0.648 (0.022)\n",
            ">8 0.644 (0.021)\n",
            ">9 0.657 (0.033)\n",
            ">10 0.665 (0.033)\n",
            ">11 0.673 (0.035)\n",
            ">12 0.663 (0.025)\n",
            ">13 0.668 (0.032)\n",
            ">14 0.680 (0.033)\n",
            ">15 0.668 (0.040)\n",
            ">16 0.677 (0.029)\n",
            ">17 0.661 (0.031)\n",
            ">18 0.644 (0.026)\n",
            ">19 0.639 (0.036)\n",
            ">20 0.626 (0.035)\n"
          ]
        },
        {
          "output_type": "execute_result",
          "data": {
            "text/plain": [
              "Text(0.5, 0, 'Depth of each tree')"
            ]
          },
          "metadata": {},
          "execution_count": 15
        },
        {
          "output_type": "display_data",
          "data": {
            "text/plain": [
              "<Figure size 640x480 with 1 Axes>"
            ],
            "image/png": "[encoded data removed]"
          },
          "metadata": {}
        }
      ]
    },
    {
      "cell_type": "code",
      "source": [
        "def get_models():\n",
        "    models = dict()\n",
        "    # explore learning rates from 0.1 to 2 in 0.1 increments\n",
        "    for i in np.arange(0.1, 2.1, 0.1):\n",
        "        key = '%.1f' % i\n",
        "        models[key] = AdaBoostClassifier(learning_rate=i)\n",
        "    return models\n",
        "\n",
        "# evaluate a given model using cross-validation\n",
        "def evaluate_model(model, X, y):\n",
        "    # define the evaluation procedure\n",
        "    cv = KFold(n_splits=10, shuffle=True, random_state=1)\n",
        "    # evaluate the model and collect the results\n",
        "    scores = cross_val_score(model, X, y, scoring='accuracy', cv=cv, n_jobs=-1)\n",
        "    return scores\n",
        "\n",
        "# get the models to evaluate\n",
        "models = get_models()\n",
        "# evaluate the models and store results\n",
        "results, names = list(), list()\n",
        "for name, model in models.items():\n",
        "    # evaluate the model\n",
        "    scores = evaluate_model(model, X, y)\n",
        "    # store the results\n",
        "    results.append(scores)\n",
        "    names.append(name)\n",
        "    # summarize the performance along the way\n",
        "    print('>%s %.3f (%.3f)' % (name, np.mean(scores), np.std(scores)))\n",
        "# plot model performance for comparison\n",
        "plt.figure(figsize=(7, 7))\n",
        "plt.boxplot(results, labels=names, showmeans=True)\n",
        "plt.ylabel('Accuracy',fontsize=15)\n",
        "plt.xlabel('Learning rate',fontsize=15)"
      ],
      "metadata": {
        "colab": {
          "base_uri": "https://localhost:8080/",
          "height": 1000
        },
        "id": "WrK4gg0Xvpr5",
        "outputId": "862a1010-ca01-4225-a549-bbb71605d7ec"
      },
      "execution_count": 16,
      "outputs": [
        {
          "output_type": "stream",
          "name": "stdout",
          "text": [
            ">0.1 0.611 (0.035)\n",
            ">0.2 0.601 (0.035)\n",
            ">0.3 0.602 (0.031)\n",
            ">0.4 0.597 (0.034)\n",
            ">0.5 0.595 (0.036)\n",
            ">0.6 0.595 (0.039)\n",
            ">0.7 0.591 (0.034)\n",
            ">0.8 0.589 (0.036)\n",
            ">0.9 0.586 (0.037)\n",
            ">1.0 0.582 (0.027)\n",
            ">1.1 0.581 (0.033)\n",
            ">1.2 0.582 (0.028)\n",
            ">1.3 0.583 (0.031)\n",
            ">1.4 0.581 (0.028)\n",
            ">1.5 0.575 (0.037)\n",
            ">1.6 0.567 (0.034)\n",
            ">1.7 0.571 (0.034)\n",
            ">1.8 0.560 (0.027)\n",
            ">1.9 0.590 (0.033)\n",
            ">2.0 0.392 (0.030)\n"
          ]
        },
        {
          "output_type": "execute_result",
          "data": {
            "text/plain": [
              "Text(0.5, 0, 'Learning rate')"
            ]
          },
          "metadata": {},
          "execution_count": 16
        },
        {
          "output_type": "display_data",
          "data": {
            "text/plain": [
              "<Figure size 700x700 with 1 Axes>"
            ],
            "image/png": "[encoded data removed]"
          },
          "metadata": {}
        }
      ]
    },
    {
      "cell_type": "code",
      "source": [
        "model = AdaBoostClassifier(random_state=1)\n",
        "grid = dict()\n",
        "grid['n_estimators'] = [50, 300, 500, 1000]\n",
        "grid['learning_rate'] = [0.0001, 0.001, 0.01,0.1, 1.0]\n",
        "grid['base_estimator'] = [DecisionTreeClassifier(max_depth=11), DecisionTreeClassifier(max_depth=12), \n",
        "                          DecisionTreeClassifier(max_depth=13),DecisionTreeClassifier(max_depth=14)]\n",
        "# define the evaluation procedure\n",
        "cv = StratifiedKFold(n_splits=5, shuffle=True, random_state=1)\n",
        "# define the grid search procedure\n",
        "grid_search = GridSearchCV(estimator=model, param_grid=grid, n_jobs=-1, cv=cv, \n",
        "                          verbose = True)\n",
        "# execute the grid search\n",
        "grid_result = grid_search.fit(X, y)\n",
        "# summarize the best score and configuration\n",
        "print(\"Best: %f using %s\" % (grid_result.best_score_, grid_result.best_params_))\n",
        "# summarize all scores that were evaluated\n",
        "means = grid_result.cv_results_['mean_test_score']\n",
        "stds = grid_result.cv_results_['std_test_score']\n",
        "params = grid_result.cv_results_['params']\n",
        "#for mean, stdev, param in zip(means, stds, params):\n",
        "#    print(\"%f (%f) with: %r\" % (mean, stdev, param)"
      ],
      "metadata": {
        "colab": {
          "base_uri": "https://localhost:8080/"
        },
        "id": "leuI21CuwqiN",
        "outputId": "b5d65b76-8247-4e76-a6c4-274dd4706adf"
      },
      "execution_count": 18,
      "outputs": [
        {
          "output_type": "stream",
          "name": "stdout",
          "text": [
            "Fitting 5 folds for each of 80 candidates, totalling 400 fits\n"
          ]
        },
        {
          "output_type": "stream",
          "name": "stderr",
          "text": [
            "/usr/local/lib/python3.10/dist-packages/sklearn/ensemble/_base.py:166: FutureWarning: `base_estimator` was renamed to `estimator` in version 1.2 and will be removed in 1.4.\n",
            "  warnings.warn(\n"
          ]
        },
        {
          "output_type": "stream",
          "name": "stdout",
          "text": [
            "Best: 0.689698 using {'base_estimator': DecisionTreeClassifier(max_depth=13), 'learning_rate': 1.0, 'n_estimators': 300}\n"
          ]
        }
      ]
    },
    {
      "cell_type": "code",
      "source": [
        "#Model based on the optimal parameters\n",
        "model = AdaBoostClassifier(random_state=1,estimator = DecisionTreeClassifier(max_depth=13),learning_rate=1.0,\n",
        "                          n_estimators=300).fit(X,y)\n",
        "\n",
        "# Note that we are using the cross-validated predicted probabilities, instead of directly using the \n",
        "# predicted probabilities on train data, as the model may be overfitting on the train data, and \n",
        "# may lead to misleading results\n",
        "cross_val_ypred = cross_val_predict(AdaBoostClassifier(random_state=1,estimator = DecisionTreeClassifier(max_depth=13),learning_rate=1.0,\n",
        "                          n_estimators=300), X, y, cv = 5, method = 'predict_proba')\n",
        "\n",
        "p, r, thresholds = precision_recall_curve(y, cross_val_ypred[:, 1])\n",
        "\n",
        "def plot_accuracy_recall_vs_threshold(accuracies, recalls, thresholds):\n",
        "    plt.figure(figsize=(8, 8))\n",
        "    plt.title(\"Accuracy and Recall Scores as a function of the decision threshold\")\n",
        "    accuracies = [accuracy_score(y, cross_val_ypred[:, 1] >= t) for t in thresholds]\n",
        "    plt.plot(thresholds, accuracies, \"b--\", label=\"Accuracy\")\n",
        "    plt.plot(thresholds, recalls[:-1], \"g-\", label=\"Recall\")\n",
        "    plt.plot(thresholds, accuracies, \"o\", color='blue')\n",
        "    plt.plot(thresholds, recalls[:-1], \"o\", color='green')\n",
        "    plt.ylabel(\"Score\")\n",
        "    plt.xlabel(\"Decision Threshold\")\n",
        "    plt.legend(loc='best')\n",
        "    plt.show()\n",
        "\n",
        "plot_accuracy_recall_vs_threshold(p, r, thresholds)"
      ],
      "metadata": {
        "colab": {
          "base_uri": "https://localhost:8080/",
          "height": 718
        },
        "id": "seQZFJVf_4AD",
        "outputId": "92adeaca-eb28-4c9e-c2a3-3b211c396a8e"
      },
      "execution_count": 28,
      "outputs": [
        {
          "output_type": "display_data",
          "data": {
            "text/plain": [
              "<Figure size 800x800 with 1 Axes>"
            ],
            "image/png": "[encoded data removed]"
          },
          "metadata": {}
        }
      ]
    },
    {
      "cell_type": "code",
      "source": [
        "# Thresholds with precision and recall\n",
        "all_thresholds = np.concatenate([thresholds.reshape(-1,1), p[:-1].reshape(-1,1), r[:-1].reshape(-1,1)], axis=1)\n",
        "recall_more_than_80 = all_thresholds[all_thresholds[:, 2] > 0.8, :]\n",
        "\n",
        "# Find the maximum threshold probability for the recall to be more than 80%\n",
        "max_threshold_row = recall_more_than_80[np.argmax(recall_more_than_80[:, 0]), :]\n",
        "\n",
        "# Set the maximum threshold probability to achieve the desired accuracy\n",
        "target_accuracy = 0.89\n",
        "max_threshold_row[0] = thresholds[np.argmax(p[:-1] >= target_accuracy)]\n",
        "\n",
        "# Print the maximum threshold probability\n",
        "max_threshold_row\n"
      ],
      "metadata": {
        "colab": {
          "base_uri": "https://localhost:8080/"
        },
        "id": "W5cEiLEmAKbY",
        "outputId": "00732476-8966-4dab-8378-dcb2b32cfca7"
      },
      "execution_count": 33,
      "outputs": [
        {
          "output_type": "execute_result",
          "data": {
            "text/plain": [
              "array([1.        , 0.43469524, 0.80024661])"
            ]
          },
          "metadata": {},
          "execution_count": 33
        }
      ]
    },
    {
      "cell_type": "code",
      "source": [
        "#Optimal decision threshold probability\n",
        "thres = recall_more_than_80[recall_more_than_80.shape[0]-1][0]\n",
        "thres"
      ],
      "metadata": {
        "colab": {
          "base_uri": "https://localhost:8080/"
        },
        "id": "pWmX1uapAKqQ",
        "outputId": "6ffba924-42ad-49fc-9665-d337c37d3848"
      },
      "execution_count": 34,
      "outputs": [
        {
          "output_type": "execute_result",
          "data": {
            "text/plain": [
              "0.99999999989365"
            ]
          },
          "metadata": {},
          "execution_count": 34
        }
      ]
    },
    {
      "cell_type": "code",
      "source": [
        "# Performance metrics computation for the optimum decision threshold probability\n",
        "desired_threshold = thres\n",
        "\n",
        "y_pred_prob = model.predict_proba(X_test_scaled)[:,1] \n",
        "\n",
        "# Classifying observations in the positive class (y = 1) if the predicted probability is greater\n",
        "# than the desired decision threshold probability\n",
        "y_pred = y_pred_prob > desired_threshold\n",
        "y_pred = y_pred.astype(int)\n",
        "\n",
        "#Computing the accuracy\n",
        "print(\"Accuracy: \",accuracy_score(y_pred, y_test)*100)  \n",
        "\n",
        "#Computing the ROC-AUC\n",
        "fpr, tpr, auc_thresholds = roc_curve(y_test, y_pred_prob)\n",
        "print(\"ROC-AUC: \",auc(fpr, tpr))# AUC of ROC\n",
        "\n",
        "#Computing the precision and recall\n",
        "print(\"Precision: \", precision_score(y_test, y_pred))\n",
        "print(\"Recall: \", recall_score(y_test, y_pred))\n",
        "\n",
        "#Confusion matrix\n",
        "cm = pd.DataFrame(confusion_matrix(y_test, y_pred), \n",
        "                  columns=['Predicted 0', 'Predicted 1'], index = ['Actual 0', 'Actual 1'])\n",
        "sns.heatmap(cm, annot=True, cmap='Blues', fmt='g');"
      ],
      "metadata": {
        "colab": {
          "base_uri": "https://localhost:8080/",
          "height": 593
        },
        "id": "wWIwOI7HAK4i",
        "outputId": "944162cd-a075-4aaf-ba68-0d648c5bd434"
      },
      "execution_count": 35,
      "outputs": [
        {
          "output_type": "stream",
          "name": "stderr",
          "text": [
            "/usr/local/lib/python3.10/dist-packages/sklearn/base.py:439: UserWarning: X does not have valid feature names, but AdaBoostClassifier was fitted with feature names\n",
            "  warnings.warn(\n",
            "/usr/local/lib/python3.10/dist-packages/sklearn/metrics/_classification.py:1344: UndefinedMetricWarning: Precision is ill-defined and being set to 0.0 due to no predicted samples. Use `zero_division` parameter to control this behavior.\n",
            "  _warn_prf(average, modifier, msg_start, len(result))\n"
          ]
        },
        {
          "output_type": "stream",
          "name": "stdout",
          "text": [
            "Accuracy:  63.27543424317618\n",
            "ROC-AUC:  0.5198463169051404\n",
            "Precision:  0.0\n",
            "Recall:  0.0\n"
          ]
        },
        {
          "output_type": "display_data",
          "data": {
            "text/plain": [
              "<Figure size 640x480 with 2 Axes>"
            ],
            "image/png": "[encoded data removed]"
          },
          "metadata": {}
        }
      ]
    }
  ]
}