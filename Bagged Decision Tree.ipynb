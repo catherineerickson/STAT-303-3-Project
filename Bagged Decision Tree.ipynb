{
 "cells": [
  {
   "cell_type": "code",
   "execution_count": 35,
   "id": "66dc0fe1",
   "metadata": {},
   "outputs": [],
   "source": [
    "import pandas as pd\n",
    "import numpy as np\n",
    "import seaborn as sns\n",
    "import matplotlib.pyplot as plt\n",
    "from sklearn.metrics import mean_squared_error\n",
    "from sklearn.model_selection import cross_val_score,train_test_split\n",
    "from sklearn.model_selection import KFold\n",
    "from sklearn.tree import DecisionTreeRegressor,DecisionTreeClassifier\n",
    "from sklearn.model_selection import GridSearchCV, ParameterGrid\n",
    "from sklearn.ensemble import BaggingRegressor,BaggingClassifier\n",
    "from sklearn.linear_model import LinearRegression,LogisticRegression\n",
    "from sklearn.neighbors import KNeighborsRegressor\n",
    "from sklearn.metrics import roc_curve, precision_recall_curve, auc, make_scorer, recall_score, \\\n",
    "accuracy_score, precision_score, confusion_matrix, mean_squared_error, r2_score\n",
    "from sklearn.model_selection import cross_val_score, train_test_split, StratifiedKFold, KFold, cross_val_predict\n",
    "import random as rm\n",
    "from sklearn import metrics\n",
    "from sklearn import impute\n",
    "import sklearn as sk\n",
    "from sklearn.impute import KNNImputer\n",
    "from sklearn.preprocessing import MinMaxScaler\n",
    "from sklearn.metrics import mean_squared_error\n",
    "from sklearn.preprocessing import StandardScaler\n"
   ]
  },
  {
   "cell_type": "code",
   "execution_count": 57,
   "id": "c8b927bf",
   "metadata": {},
   "outputs": [
    {
     "data": {
      "text/html": [
       "<div>\n",
       "<style scoped>\n",
       "    .dataframe tbody tr th:only-of-type {\n",
       "        vertical-align: middle;\n",
       "    }\n",
       "\n",
       "    .dataframe tbody tr th {\n",
       "        vertical-align: top;\n",
       "    }\n",
       "\n",
       "    .dataframe thead th {\n",
       "        text-align: right;\n",
       "    }\n",
       "</style>\n",
       "<table border=\"1\" class=\"dataframe\">\n",
       "  <thead>\n",
       "    <tr style=\"text-align: right;\">\n",
       "      <th></th>\n",
       "      <th>ph</th>\n",
       "      <th>Hardness</th>\n",
       "      <th>Solids</th>\n",
       "      <th>Chloramines</th>\n",
       "      <th>Sulfate</th>\n",
       "      <th>Conductivity</th>\n",
       "      <th>Organic_carbon</th>\n",
       "      <th>Trihalomethanes</th>\n",
       "      <th>Turbidity</th>\n",
       "      <th>Potability</th>\n",
       "    </tr>\n",
       "  </thead>\n",
       "  <tbody>\n",
       "    <tr>\n",
       "      <th>0</th>\n",
       "      <td>NaN</td>\n",
       "      <td>204.890455</td>\n",
       "      <td>20791.318981</td>\n",
       "      <td>7.300212</td>\n",
       "      <td>368.516441</td>\n",
       "      <td>564.308654</td>\n",
       "      <td>10.379783</td>\n",
       "      <td>86.990970</td>\n",
       "      <td>2.963135</td>\n",
       "      <td>0</td>\n",
       "    </tr>\n",
       "    <tr>\n",
       "      <th>1</th>\n",
       "      <td>3.716080</td>\n",
       "      <td>129.422921</td>\n",
       "      <td>18630.057858</td>\n",
       "      <td>6.635246</td>\n",
       "      <td>NaN</td>\n",
       "      <td>592.885359</td>\n",
       "      <td>15.180013</td>\n",
       "      <td>56.329076</td>\n",
       "      <td>4.500656</td>\n",
       "      <td>0</td>\n",
       "    </tr>\n",
       "    <tr>\n",
       "      <th>2</th>\n",
       "      <td>8.099124</td>\n",
       "      <td>224.236259</td>\n",
       "      <td>19909.541732</td>\n",
       "      <td>9.275884</td>\n",
       "      <td>NaN</td>\n",
       "      <td>418.606213</td>\n",
       "      <td>16.868637</td>\n",
       "      <td>66.420093</td>\n",
       "      <td>3.055934</td>\n",
       "      <td>0</td>\n",
       "    </tr>\n",
       "    <tr>\n",
       "      <th>3</th>\n",
       "      <td>8.316766</td>\n",
       "      <td>214.373394</td>\n",
       "      <td>22018.417441</td>\n",
       "      <td>8.059332</td>\n",
       "      <td>356.886136</td>\n",
       "      <td>363.266516</td>\n",
       "      <td>18.436524</td>\n",
       "      <td>100.341674</td>\n",
       "      <td>4.628771</td>\n",
       "      <td>0</td>\n",
       "    </tr>\n",
       "    <tr>\n",
       "      <th>4</th>\n",
       "      <td>9.092223</td>\n",
       "      <td>181.101509</td>\n",
       "      <td>17978.986339</td>\n",
       "      <td>6.546600</td>\n",
       "      <td>310.135738</td>\n",
       "      <td>398.410813</td>\n",
       "      <td>11.558279</td>\n",
       "      <td>31.997993</td>\n",
       "      <td>4.075075</td>\n",
       "      <td>0</td>\n",
       "    </tr>\n",
       "  </tbody>\n",
       "</table>\n",
       "</div>"
      ],
      "text/plain": [
       "         ph    Hardness        Solids  Chloramines     Sulfate  Conductivity  \\\n",
       "0       NaN  204.890455  20791.318981     7.300212  368.516441    564.308654   \n",
       "1  3.716080  129.422921  18630.057858     6.635246         NaN    592.885359   \n",
       "2  8.099124  224.236259  19909.541732     9.275884         NaN    418.606213   \n",
       "3  8.316766  214.373394  22018.417441     8.059332  356.886136    363.266516   \n",
       "4  9.092223  181.101509  17978.986339     6.546600  310.135738    398.410813   \n",
       "\n",
       "   Organic_carbon  Trihalomethanes  Turbidity  Potability  \n",
       "0       10.379783        86.990970   2.963135           0  \n",
       "1       15.180013        56.329076   4.500656           0  \n",
       "2       16.868637        66.420093   3.055934           0  \n",
       "3       18.436524       100.341674   4.628771           0  \n",
       "4       11.558279        31.997993   4.075075           0  "
      ]
     },
     "execution_count": 57,
     "metadata": {},
     "output_type": "execute_result"
    }
   ],
   "source": [
    "df = pd.read_csv(\"water_potability.csv\")\n",
    "df.head()"
   ]
  },
  {
   "cell_type": "code",
   "execution_count": 68,
   "id": "5d0f638a",
   "metadata": {},
   "outputs": [],
   "source": [
    "X = df.drop(columns= 'Potability')\n",
    "y = df['Potability']"
   ]
  },
  {
   "cell_type": "code",
   "execution_count": 59,
   "id": "d8c48849",
   "metadata": {},
   "outputs": [],
   "source": [
    "scaler = StandardScaler()\n",
    "X_scaled = scaler.fit_transform(X)\n",
    "X_scaled = pd.DataFrame(X_scaled, columns=X.columns)"
   ]
  },
  {
   "cell_type": "code",
   "execution_count": 60,
   "id": "c5f5dec5",
   "metadata": {},
   "outputs": [],
   "source": [
    "MSE_whole_data = []\n",
    "#Iterate over the potential optimal values of the hyperparameter 'k' of the KNN algorithm\n",
    "for k in range(1, 51):\n",
    "    #Impute the missing values of X_scaled (5380 rows, 765 columns) with the 'k' under consideration\n",
    "    #Let us call the imputed dataset as 'X_imputed_k'. This dataset has no missing values.\n",
    "    imputer = KNNImputer(n_neighbors=k)\n",
    "    X_imputed_k = imputer.fit_transform(X_scaled)\n",
    "    X_imputed_k = pd.DataFrame(X_imputed_k, columns=X_scaled.columns)\n",
    "    MSE_multiplied = []\n",
    "    MSE = []\n",
    "    #Iterate over each predictor in the data\n",
    "    for predictor in X_scaled.columns:\n",
    "        #If there are no missing values in 'predictor', skip the lines below, and continue with the next predictor\n",
    "        if X_scaled[predictor].isna().sum() == 0:\n",
    "            continue\n",
    "        #Remove the observations from 'X_imputed_k', where the 'predictor' has actual missing values.\n",
    "        #We don't know the true values of those observations for the 'predictor' column, and hence cannot \n",
    "        #compute the cross-validation error on them. Let the dataframe with the removed observations be\n",
    "        #X_imputed_non_missing_k \n",
    "        missing_mask = X_scaled[predictor].isna()\n",
    "        X_imputed_non_missing_k = X_imputed_k.loc[~missing_mask, :]\n",
    "        #Similarly, remove the observations that have missing values in 'predictor' and call the \n",
    "        #resulting Series as 'predictor_nonmissing'\n",
    "        predictor_nonmissing = X_scaled.loc[~missing_mask, predictor]\n",
    "        #Consider 'predictor_nonmissing' as the response, and 'X_imputed_non_missing_k' as predictors\n",
    "        knn = KNeighborsRegressor(n_neighbors=k)\n",
    "        #Use cross_val_score to compute the 5-fold cross-validated MSE when 'predictor_nonmissing' is \n",
    "        #predicted using 'X_imputed_non_missing_k' as the set of predictors, with the KNN model having\n",
    "        #K = k\n",
    "        cv_scores= -cross_val_score(knn, X_imputed_non_missing_k, predictor_nonmissing, cv=5, scoring='neg_mean_squared_error')\n",
    "        #Compute the weighted average of MSEs, and then MSE_whole_data_k as mentioned in steps 6-7 of the announcement\n",
    "        MSE.append(np.mean(cv_scores))\n",
    "        MSE_multiplied.append(np.mean(cv_scores) * missing_mask.sum())\n",
    "    total_se_k = sum(MSE_multiplied)\n",
    "    MSE_whole_data_k = total_se_k / X_scaled.isnull().sum().sum()\n",
    "    MSE_whole_data.append(MSE_whole_data_k)"
   ]
  },
  {
   "cell_type": "code",
   "execution_count": 61,
   "id": "770a2f6e",
   "metadata": {},
   "outputs": [
    {
     "name": "stdout",
     "output_type": "stream",
     "text": [
      "Optimal K: 5\n",
      "MSE for the optimal K: 0.16072247870117018\n"
     ]
    }
   ],
   "source": [
    "# Find optimal K\n",
    "optimal_k = np.argmin(MSE_whole_data) + 1\n",
    "MSE_optimal_k = MSE_whole_data[optimal_k - 1]\n",
    "print(\"Optimal K:\", optimal_k)\n",
    "print('MSE for the optimal K:', MSE_optimal_k)"
   ]
  },
  {
   "cell_type": "code",
   "execution_count": 62,
   "id": "67ac1792",
   "metadata": {},
   "outputs": [
    {
     "data": {
      "image/png": "[encoded data removed]",
      "text/plain": [
       "<Figure size 432x288 with 1 Axes>"
      ]
     },
     "metadata": {
      "needs_background": "light"
     },
     "output_type": "display_data"
    }
   ],
   "source": [
    "#plot MSEwhole_data_k vs k, and report the (2) optimal K, (3) MSEwhole_data_K for the optimal K, and (4) the option (a) or (b) chosen in step 4.\n",
    "#Note that this template is for following option (a) in step 4 in the announcement.\n",
    "# Plot MSEwhole_data_k vs k\n",
    "plt.plot(range(1, 51), MSE_whole_data)\n",
    "plt.xlabel('k')\n",
    "plt.ylabel('MSE for k')\n",
    "plt.show()"
   ]
  },
  {
   "cell_type": "code",
   "execution_count": 64,
   "id": "3aa78e49",
   "metadata": {},
   "outputs": [],
   "source": [
    "# Select the columns with missing values\n",
    "columns_with_missing = ['ph', 'Sulfate', \"Trihalomethanes\"]\n",
    "\n",
    "# Create a copy of the DataFrame\n",
    "impute_X = X_scaled.copy()\n",
    "\n",
    "# Perform KNN imputation with the optimal K value\n",
    "imputer = KNNImputer(n_neighbors=5, weights=\"uniform\")\n",
    "imputed_data = imputer.fit_transform(impute_X[columns_with_missing])\n",
    "\n",
    "# Update the original DataFrame with the imputed values\n",
    "X_scaled[columns_with_missing] = imputed_data"
   ]
  },
  {
   "cell_type": "code",
   "execution_count": 65,
   "id": "d963e6a5",
   "metadata": {},
   "outputs": [
    {
     "data": {
      "text/html": [
       "<div>\n",
       "<style scoped>\n",
       "    .dataframe tbody tr th:only-of-type {\n",
       "        vertical-align: middle;\n",
       "    }\n",
       "\n",
       "    .dataframe tbody tr th {\n",
       "        vertical-align: top;\n",
       "    }\n",
       "\n",
       "    .dataframe thead th {\n",
       "        text-align: right;\n",
       "    }\n",
       "</style>\n",
       "<table border=\"1\" class=\"dataframe\">\n",
       "  <thead>\n",
       "    <tr style=\"text-align: right;\">\n",
       "      <th></th>\n",
       "      <th>ph</th>\n",
       "      <th>Hardness</th>\n",
       "      <th>Solids</th>\n",
       "      <th>Chloramines</th>\n",
       "      <th>Sulfate</th>\n",
       "      <th>Conductivity</th>\n",
       "      <th>Organic_carbon</th>\n",
       "      <th>Trihalomethanes</th>\n",
       "      <th>Turbidity</th>\n",
       "    </tr>\n",
       "  </thead>\n",
       "  <tbody>\n",
       "    <tr>\n",
       "      <th>0</th>\n",
       "      <td>-0.209627</td>\n",
       "      <td>0.259195</td>\n",
       "      <td>-0.139471</td>\n",
       "      <td>0.112415</td>\n",
       "      <td>0.838973</td>\n",
       "      <td>1.708954</td>\n",
       "      <td>-1.180651</td>\n",
       "      <td>1.273445</td>\n",
       "      <td>-1.286298</td>\n",
       "    </tr>\n",
       "    <tr>\n",
       "      <th>1</th>\n",
       "      <td>-2.110818</td>\n",
       "      <td>-2.036414</td>\n",
       "      <td>-0.385987</td>\n",
       "      <td>-0.307694</td>\n",
       "      <td>-0.512637</td>\n",
       "      <td>2.062575</td>\n",
       "      <td>0.270597</td>\n",
       "      <td>-0.622493</td>\n",
       "      <td>0.684218</td>\n",
       "    </tr>\n",
       "    <tr>\n",
       "      <th>2</th>\n",
       "      <td>0.638838</td>\n",
       "      <td>0.847665</td>\n",
       "      <td>-0.240047</td>\n",
       "      <td>1.360594</td>\n",
       "      <td>-0.333799</td>\n",
       "      <td>-0.094032</td>\n",
       "      <td>0.781117</td>\n",
       "      <td>0.001472</td>\n",
       "      <td>-1.167365</td>\n",
       "    </tr>\n",
       "    <tr>\n",
       "      <th>3</th>\n",
       "      <td>0.775374</td>\n",
       "      <td>0.547651</td>\n",
       "      <td>0.000493</td>\n",
       "      <td>0.592008</td>\n",
       "      <td>0.558106</td>\n",
       "      <td>-0.778830</td>\n",
       "      <td>1.255134</td>\n",
       "      <td>2.098969</td>\n",
       "      <td>0.848412</td>\n",
       "    </tr>\n",
       "    <tr>\n",
       "      <th>4</th>\n",
       "      <td>1.261849</td>\n",
       "      <td>-0.464429</td>\n",
       "      <td>-0.460249</td>\n",
       "      <td>-0.363698</td>\n",
       "      <td>-0.570898</td>\n",
       "      <td>-0.343939</td>\n",
       "      <td>-0.824357</td>\n",
       "      <td>-2.126974</td>\n",
       "      <td>0.138786</td>\n",
       "    </tr>\n",
       "  </tbody>\n",
       "</table>\n",
       "</div>"
      ],
      "text/plain": [
       "         ph  Hardness    Solids  Chloramines   Sulfate  Conductivity  \\\n",
       "0 -0.209627  0.259195 -0.139471     0.112415  0.838973      1.708954   \n",
       "1 -2.110818 -2.036414 -0.385987    -0.307694 -0.512637      2.062575   \n",
       "2  0.638838  0.847665 -0.240047     1.360594 -0.333799     -0.094032   \n",
       "3  0.775374  0.547651  0.000493     0.592008  0.558106     -0.778830   \n",
       "4  1.261849 -0.464429 -0.460249    -0.363698 -0.570898     -0.343939   \n",
       "\n",
       "   Organic_carbon  Trihalomethanes  Turbidity  \n",
       "0       -1.180651         1.273445  -1.286298  \n",
       "1        0.270597        -0.622493   0.684218  \n",
       "2        0.781117         0.001472  -1.167365  \n",
       "3        1.255134         2.098969   0.848412  \n",
       "4       -0.824357        -2.126974   0.138786  "
      ]
     },
     "execution_count": 65,
     "metadata": {},
     "output_type": "execute_result"
    }
   ],
   "source": [
    "X_scaled.head()"
   ]
  },
  {
   "cell_type": "code",
   "execution_count": 69,
   "id": "c9d50f60",
   "metadata": {},
   "outputs": [],
   "source": [
    "X_train, X_test, y_train, y_test = train_test_split(X_scaled, y, test_size = 0.3, random_state = 45)"
   ]
  },
  {
   "cell_type": "markdown",
   "id": "7ff9000e",
   "metadata": {},
   "source": [
    "# Do we need to scale values? if so, should they be scaled for train and test? should our test data have imputed values as well, or just train data?"
   ]
  },
  {
   "cell_type": "code",
   "execution_count": 70,
   "id": "e6ef0fe9",
   "metadata": {},
   "outputs": [
    {
     "data": {
      "text/plain": [
       "(2293, 9)"
      ]
     },
     "execution_count": 70,
     "metadata": {},
     "output_type": "execute_result"
    }
   ],
   "source": [
    "X_train.shape"
   ]
  },
  {
   "cell_type": "markdown",
   "id": "fba8ff82",
   "metadata": {},
   "source": [
    "**Going to measure RMSE because larger errors are more important to consider. This is because a small error in a metric may not mean the difference between potable and not, but a large error very well could.**"
   ]
  },
  {
   "cell_type": "markdown",
   "id": "d22a94bb",
   "metadata": {},
   "source": [
    "**Baseline model**"
   ]
  },
  {
   "cell_type": "code",
   "execution_count": 71,
   "id": "a58a44ea",
   "metadata": {},
   "outputs": [
    {
     "data": {
      "text/plain": [
       "DecisionTreeClassifier(random_state=1)"
      ]
     },
     "execution_count": 71,
     "metadata": {},
     "output_type": "execute_result"
    }
   ],
   "source": [
    "model=DecisionTreeClassifier(random_state=1)\n",
    "model.fit(X_train, y_train)"
   ]
  },
  {
   "cell_type": "code",
   "execution_count": 72,
   "id": "abbb4f9c",
   "metadata": {},
   "outputs": [
    {
     "name": "stdout",
     "output_type": "stream",
     "text": [
      "Maximum tree depth = 29\n",
      "Maximum leaves = 455\n"
     ]
    }
   ],
   "source": [
    "print(\"Maximum tree depth =\", model.get_depth())\n",
    "print(\"Maximum leaves =\", model.get_n_leaves())"
   ]
  },
  {
   "cell_type": "code",
   "execution_count": 73,
   "id": "92fb371c",
   "metadata": {},
   "outputs": [],
   "source": [
    "model = DecisionTreeClassifier(random_state=1, max_depth=29, max_leaf_nodes=455, max_features=9).fit(X_train, y_train)"
   ]
  },
  {
   "cell_type": "markdown",
   "id": "65f9d6f7",
   "metadata": {},
   "source": [
    "# how to print precision for baseline model"
   ]
  },
  {
   "cell_type": "markdown",
   "id": "f1dd200a",
   "metadata": {},
   "source": [
    "**Tuning decision tree**"
   ]
  },
  {
   "cell_type": "code",
   "execution_count": 10,
   "id": "4ac7169d",
   "metadata": {},
   "outputs": [
    {
     "name": "stdout",
     "output_type": "stream",
     "text": [
      "Fitting 5 folds for each of 1421 candidates, totalling 7105 fits\n",
      "Best accuracy through grid search : 0.673\n",
      "Best params for precision\n",
      "{'max_depth': 5, 'max_features': 5, 'max_leaf_nodes': 32}\n"
     ]
    }
   ],
   "source": [
    "# Grid search to optimize parameter values\n",
    "parameters = {'max_depth': range(2, 29, 2), 'max_leaf_nodes': range(2, 455, 10), 'max_features':range(2, 9)}\n",
    "cv=KFold(n_splits=5, shuffle=True, random_state=1)\n",
    "model=GridSearchCV(DecisionTreeClassifier(random_state=1), parameters, n_jobs=-1, verbose=1, cv=cv,\n",
    "                  scoring=['precision', 'recall'], refit='precision')\n",
    "model.fit(X_train, y_train)\n",
    "print(\"Best accuracy through grid search : %.3f\"%model.best_score_)\n",
    "print(\"Best params for precision\")\n",
    "print(model.best_params_)\n"
   ]
  },
  {
   "cell_type": "code",
   "execution_count": 11,
   "id": "bcc4992e",
   "metadata": {},
   "outputs": [
    {
     "data": {
      "image/png": "[encoded data removed]",
      "text/plain": [
       "<Figure size 576x576 with 1 Axes>"
      ]
     },
     "metadata": {
      "needs_background": "light"
     },
     "output_type": "display_data"
    }
   ],
   "source": [
    "model = DecisionTreeClassifier(random_state=1, max_depth=5, max_leaf_nodes=32, max_features=5).fit(X_train, y_train)\n",
    "\n",
    "cross_val_ypred=cross_val_predict(DecisionTreeClassifier(random_state=1, max_depth=5,\n",
    "                                                        max_leaf_nodes=32, max_features=5), X_train,\n",
    "                                 y_train, cv=5, method='predict_proba')\n",
    "\n",
    "p, r, thresholds = precision_recall_curve(y_train, cross_val_ypred[:, 1])\n",
    "acc=np.ndarray(shape=(len(thresholds),))\n",
    "i=0\n",
    "for th in thresholds:\n",
    "    y_pred = cross_val_ypred[:, 1]>th\n",
    "    y_pred=y_pred.astype(int)\n",
    "    acc[i]=accuracy_score(y_pred, y_train)\n",
    "    i = i+1\n",
    "def plot_precision_recall_vs_threshold(precisions, recalls, thresholds):\n",
    "    plt.figure(figsize=(8, 8))\n",
    "    plt.title(\"Precision and Recall Scores as a function of the decision threshold\")\n",
    "    plt.plot(thresholds, precisions[:-1], \"b--\", label=\"Precision\")\n",
    "    plt.plot(thresholds, recalls[:-1], \"g--\", label=\"Recall\")\n",
    "    plt.plot(thresholds, acc, \"r--\", label=\"Accuracy\")\n",
    "    plt.plot(thresholds, precisions[:-1], \"o\", color='blue')\n",
    "    plt.plot(thresholds, recalls[:-1], \"o\", color='green')\n",
    "    plt.plot(thresholds, acc, \"o\", color = 'red')\n",
    "    plt.ylabel(\"Score\")\n",
    "    plt.xlabel(\"Decision Threshold\")\n",
    "    plt.legend(loc=\"best\")\n",
    "    plt.legend()\n",
    "plot_precision_recall_vs_threshold(p, r, thresholds)"
   ]
  },
  {
   "cell_type": "code",
   "execution_count": 12,
   "id": "28aa5f3a",
   "metadata": {},
   "outputs": [],
   "source": [
    "all_thresholds = np.concatenate([thresholds.reshape(-1, 1), acc.reshape(-1, 1), r[:-1].reshape(-1,1)], axis=1)\n",
    "precision_more_than_60=all_thresholds[all_thresholds[:,0]>0.6, :]"
   ]
  },
  {
   "cell_type": "code",
   "execution_count": 13,
   "id": "d3b19029",
   "metadata": {},
   "outputs": [
    {
     "data": {
      "text/plain": [
       "array([[0.        , 0.41862118, 1.        ],\n",
       "       [0.04347826, 0.42004264, 0.97250859],\n",
       "       [0.09803922, 0.42430704, 0.96907216],\n",
       "       [0.11627907, 0.42928216, 0.9604811 ],\n",
       "       [0.13043478, 0.43425729, 0.95360825],\n",
       "       [0.14285714, 0.43496802, 0.95360825],\n",
       "       [0.15384615, 0.43283582, 0.95360825],\n",
       "       [0.16666667, 0.43781095, 0.94845361],\n",
       "       [0.17431193, 0.44278607, 0.94501718],\n",
       "       [0.19230769, 0.4434968 , 0.93127148],\n",
       "       [0.2       , 0.4434968 , 0.9209622 ],\n",
       "       [0.21428571, 0.45344705, 0.91924399],\n",
       "       [0.25      , 0.45273632, 0.90034364],\n",
       "       [0.26794258, 0.46481876, 0.895189  ],\n",
       "       [0.275     , 0.47263682, 0.86769759],\n",
       "       [0.28571429, 0.47334755, 0.83333333],\n",
       "       [0.30093458, 0.49751244, 0.83333333],\n",
       "       [0.32291667, 0.50533049, 0.74914089],\n",
       "       [0.36363636, 0.50461976, 0.73883162],\n",
       "       [0.38216561, 0.53233831, 0.73539519],\n",
       "       [0.38888889, 0.53375977, 0.62199313],\n",
       "       [0.39153439, 0.54228856, 0.62199313],\n",
       "       [0.39534884, 0.54655295, 0.59793814],\n",
       "       [0.39787798, 0.57569296, 0.59106529],\n",
       "       [0.4       , 0.57569296, 0.47250859],\n",
       "       [0.40358127, 0.60554371, 0.46907216],\n",
       "       [0.41558442, 0.62331201, 0.34364261],\n",
       "       [0.42105263, 0.62473348, 0.25257732],\n",
       "       [0.42307692, 0.62544421, 0.24054983],\n",
       "       [0.46666667, 0.62686567, 0.23539519],\n",
       "       [0.5       , 0.62899787, 0.23539519],\n",
       "       [0.53333333, 0.63041933, 0.23539519],\n",
       "       [0.625     , 0.6297086 , 0.2233677 ],\n",
       "       [0.66666667, 0.63113006, 0.22164948],\n",
       "       [0.67647059, 0.63397299, 0.22164948],\n",
       "       [0.68627451, 0.62899787, 0.21477663],\n",
       "       [0.69230769, 0.63041933, 0.20274914],\n",
       "       [0.72222222, 0.62828714, 0.19931271],\n",
       "       [0.75      , 0.6318408 , 0.19415808],\n",
       "       [0.77777778, 0.62899787, 0.19243986],\n",
       "       [0.78947368, 0.62828714, 0.18041237],\n",
       "       [0.8       , 0.62615494, 0.17697595],\n",
       "       [0.8125    , 0.62331201, 0.16666667],\n",
       "       [0.81818182, 0.62189055, 0.15979381],\n",
       "       [0.82352941, 0.62046908, 0.15463918],\n",
       "       [0.83333333, 0.61549396, 0.14776632],\n",
       "       [0.84615385, 0.61336176, 0.13573883],\n",
       "       [0.86      , 0.60767591, 0.12371134],\n",
       "       [0.86956522, 0.60341151, 0.10309278],\n",
       "       [0.88888889, 0.60199005, 0.08934708],\n",
       "       [0.92      , 0.59985785, 0.08419244],\n",
       "       [0.925     , 0.59701493, 0.07216495],\n",
       "       [0.95348837, 0.59559346, 0.06357388],\n",
       "       [1.        , 0.58635394, 0.05498282]])"
      ]
     },
     "execution_count": 13,
     "metadata": {},
     "output_type": "execute_result"
    }
   ],
   "source": [
    "all_thresholds"
   ]
  },
  {
   "cell_type": "code",
   "execution_count": 14,
   "id": "69268131",
   "metadata": {},
   "outputs": [
    {
     "data": {
      "text/plain": [
       "array([1.        , 0.58635394, 0.05498282])"
      ]
     },
     "execution_count": 14,
     "metadata": {},
     "output_type": "execute_result"
    }
   ],
   "source": [
    "precision_more_than_60[precision_more_than_60.shape[0]-1]"
   ]
  },
  {
   "cell_type": "markdown",
   "id": "1b2ebad6",
   "metadata": {},
   "source": [
    "**definitely tune max_features. Don't need to tune n_estimators, just make it high, like around 250. Tuning max_depth and max_lead_nodes is not as important. Don't tune max_features over the number of predictors.**"
   ]
  },
  {
   "cell_type": "code",
   "execution_count": null,
   "id": "813fcfbb",
   "metadata": {},
   "outputs": [],
   "source": []
  }
 ],
 "metadata": {
  "kernelspec": {
   "display_name": "Python 3 (ipykernel)",
   "language": "python",
   "name": "python3"
  },
  "language_info": {
   "codemirror_mode": {
    "name": "ipython",
    "version": 3
   },
   "file_extension": ".py",
   "mimetype": "text/x-python",
   "name": "python",
   "nbconvert_exporter": "python",
   "pygments_lexer": "ipython3",
   "version": "3.9.12"
  }
 },
 "nbformat": 4,
 "nbformat_minor": 5
}
