{
 "cells": [
  {
   "cell_type": "code",
   "execution_count": 7,
   "metadata": {
    "id": "LMc-fs0-bwHJ"
   },
   "outputs": [],
   "source": [
    "import statsmodels.formula.api as smf\n",
    "import pandas as pd\n",
    "import numpy as np\n",
    "from sklearn.metrics import roc_curve, auc\n",
    "import seaborn as sns\n",
    "import matplotlib.pyplot as plt\n",
    "from sklearn.preprocessing import StandardScaler\n",
    "\n",
    "# sklearn has 100s of models - grouped in sublibraries, such as linear_model\n",
    "from sklearn.linear_model import LogisticRegression, LinearRegression\n",
    "\n",
    "# sklearn has many tools for cleaning/processing data, also grouped in sublibraries\n",
    "# splitting one dataset into train and test, computing cross validation score, cross validated prediction\n",
    "from sklearn.model_selection import train_test_split, cross_val_predict, cross_val_score\n",
    "\n",
    "#sklearn modules for computing the performance metrics\n",
    "from sklearn.metrics import accuracy_score, mean_absolute_error, mean_squared_error, r2_score, \\\n",
    "roc_curve, auc, precision_score, recall_score, confusion_matrix\n",
    "\n",
    "import pandas as pd\n",
    "import numpy as np\n",
    "import seaborn as sns\n",
    "import matplotlib.pyplot as plt\n",
    "from sklearn.metrics import mean_squared_error\n",
    "from sklearn.model_selection import cross_val_score,train_test_split\n",
    "from sklearn.model_selection import KFold\n",
    "from sklearn.tree import DecisionTreeRegressor,DecisionTreeClassifier\n",
    "from sklearn.model_selection import GridSearchCV, ParameterGrid, StratifiedKFold, RandomizedSearchCV\n",
    "from sklearn.ensemble import VotingRegressor, VotingClassifier, StackingRegressor, StackingClassifier, GradientBoostingRegressor,GradientBoostingClassifier, BaggingRegressor,BaggingClassifier,RandomForestRegressor,RandomForestClassifier,AdaBoostRegressor,AdaBoostClassifier\n",
    "from sklearn.linear_model import LinearRegression,LogisticRegression\n",
    "from sklearn.neighbors import KNeighborsRegressor\n",
    "from sklearn.metrics import roc_curve, precision_recall_curve, auc, make_scorer, recall_score, \\\n",
    "accuracy_score, precision_score, confusion_matrix, mean_squared_error, r2_score\n",
    "\n",
    "import itertools as it\n",
    "\n",
    "#Libraries for visualizing trees\n",
    "from sklearn.tree import export_graphviz \n",
    "from six import StringIO\n",
    "from IPython.display import Image  \n",
    "\n",
    "import time as time\n",
    "\n",
    "import pandas as pd\n",
    "import numpy as np\n",
    "import seaborn as sns\n",
    "import matplotlib.pyplot as plt\n",
    "from sklearn.metrics import mean_squared_error\n",
    "from sklearn.model_selection import cross_val_score,train_test_split, KFold, cross_val_predict\n",
    "from sklearn.metrics import mean_squared_error,r2_score,roc_curve,auc,precision_recall_curve, accuracy_score, \\\n",
    "recall_score, precision_score, confusion_matrix\n",
    "from sklearn.tree import DecisionTreeRegressor,DecisionTreeClassifier\n",
    "from sklearn.model_selection import GridSearchCV, ParameterGrid, StratifiedKFold\n",
    "from sklearn.ensemble import BaggingRegressor,BaggingClassifier,AdaBoostRegressor,AdaBoostClassifier\n",
    "from sklearn.linear_model import LinearRegression,LogisticRegression\n",
    "from sklearn.neighbors import KNeighborsRegressor\n",
    "import itertools as it\n",
    "import time as time\n",
    "\n",
    "import pandas as pd\n",
    "import numpy as np\n",
    "import statsmodels.formula.api as smf\n",
    "import statsmodels.api as sm\n",
    "import seaborn as sns\n",
    "import matplotlib.pyplot as plt\n",
    "from patsy import dmatrix\n",
    "from sklearn.model_selection import cross_val_score,train_test_split, cross_val_predict\n",
    "from sklearn.metrics import mean_squared_error,r2_score\n",
    "from sklearn.model_selection import StratifiedKFold, KFold\n",
    "from sklearn.preprocessing import StandardScaler\n",
    "from sklearn.tree import DecisionTreeRegressor\n",
    "from sklearn.model_selection import GridSearchCV, ParameterGrid\n",
    "from sklearn.tree import DecisionTreeClassifier\n",
    "from sklearn.ensemble import BaggingRegressor,BaggingClassifier,RandomForestRegressor,RandomForestClassifier\n",
    "from sklearn.neighbors import KNeighborsRegressor\n",
    "from sklearn.metrics import roc_curve, precision_recall_curve, auc, make_scorer, recall_score, \\\n",
    "accuracy_score, precision_score, confusion_matrix, mean_squared_error, r2_score\n",
    "#from pyearth import Earth\n",
    "from sklearn.linear_model import LinearRegression,LogisticRegression\n",
    "\n",
    "import itertools as it\n",
    "\n",
    "#Libraries for visualizing trees\n",
    "from sklearn.tree import export_graphviz \n",
    "from six import StringIO\n",
    "from IPython.display import Image  \n",
    "#import pydotplus\n",
    "import time as tm\n",
    "\n",
    "#Library to compute pair-wise Euclidean distance between all observations in the data\n",
    "from sklearn import metrics\n",
    "\n",
    "#Library to impute missing values with the KNN algorithm\n",
    "from sklearn import impute\n",
    "\n",
    "from sklearn.impute import KNNImputer\n",
    "from sklearn.neighbors import KNeighborsRegressor\n",
    "from sklearn.model_selection import cross_val_score\n",
    "\n",
    "import warnings\n",
    "with warnings.catch_warnings():\n",
    "    warnings.simplefilter(action='ignore', category=FutureWarning)\n",
    "import pandas as pd\n",
    "import numpy as np\n",
    "import statsmodels.formula.api as smf\n",
    "import statsmodels.api as sm\n",
    "import seaborn as sns\n",
    "import matplotlib.pyplot as plt\n",
    "from patsy import dmatrix\n",
    "from sklearn.metrics import mean_squared_error\n",
    "from sklearn.preprocessing import PolynomialFeatures\n",
    "from sklearn.model_selection import cross_val_predict, cross_val_score,train_test_split \n",
    "from sklearn.linear_model import LinearRegression, LogisticRegression\n",
    "from sklearn.metrics import mean_squared_error,r2_score\n",
    "from sklearn.model_selection import KFold\n",
    "from mpl_toolkits import mplot3d\n",
    "from sklearn.preprocessing import StandardScaler\n",
    "from sklearn.metrics import accuracy_score, mean_absolute_error, mean_squared_error, r2_score, \\\n",
    "roc_curve, auc, precision_score, recall_score, confusion_matrix, precision_recall_curve\n",
    "from sklearn.tree import DecisionTreeRegressor, DecisionTreeClassifier\n",
    "from sklearn.model_selection import GridSearchCV, ParameterGrid, StratifiedKFold\n",
    "from sklearn.ensemble import BaggingRegressor, RandomForestRegressor, RandomForestClassifier, GradientBoostingClassifier\n",
    "import plotly.express as px\n",
    "from sklearn.impute import KNNImputer\n",
    "import xgboost as xgb\n",
    "\n",
    "from sklearn.ensemble import VotingRegressor, VotingClassifier, StackingRegressor, StackingClassifier, GradientBoostingRegressor,GradientBoostingClassifier, BaggingRegressor,BaggingClassifier,RandomForestRegressor,RandomForestClassifier,AdaBoostRegressor,AdaBoostClassifier"
   ]
  },
  {
   "cell_type": "code",
   "execution_count": 8,
   "metadata": {
    "colab": {
     "base_uri": "https://localhost:8080/",
     "height": 312
    },
    "id": "a_vnM8RRdSBS",
    "outputId": "1e40eb3b-0ebb-47ff-f2f1-ee1116a9a83c"
   },
   "outputs": [],
   "source": [
    "from pyearth import Earth"
   ]
  },
  {
   "cell_type": "code",
   "execution_count": 9,
   "metadata": {
    "id": "r9jix73PdSZQ"
   },
   "outputs": [],
   "source": [
    "from catboost import CatBoostClassifier"
   ]
  },
  {
   "cell_type": "code",
   "execution_count": 10,
   "metadata": {
    "colab": {
     "base_uri": "https://localhost:8080/",
     "height": 270
    },
    "id": "MMZK3ZcldVXo",
    "outputId": "76893d7e-5779-4c8a-9f95-49639fa1bdc5"
   },
   "outputs": [
    {
     "data": {
      "text/html": [
       "<div>\n",
       "<style scoped>\n",
       "    .dataframe tbody tr th:only-of-type {\n",
       "        vertical-align: middle;\n",
       "    }\n",
       "\n",
       "    .dataframe tbody tr th {\n",
       "        vertical-align: top;\n",
       "    }\n",
       "\n",
       "    .dataframe thead th {\n",
       "        text-align: right;\n",
       "    }\n",
       "</style>\n",
       "<table border=\"1\" class=\"dataframe\">\n",
       "  <thead>\n",
       "    <tr style=\"text-align: right;\">\n",
       "      <th></th>\n",
       "      <th>ph</th>\n",
       "      <th>Hardness</th>\n",
       "      <th>Solids</th>\n",
       "      <th>Chloramines</th>\n",
       "      <th>Sulfate</th>\n",
       "      <th>Conductivity</th>\n",
       "      <th>Organic_carbon</th>\n",
       "      <th>Trihalomethanes</th>\n",
       "      <th>Turbidity</th>\n",
       "      <th>Potability</th>\n",
       "    </tr>\n",
       "  </thead>\n",
       "  <tbody>\n",
       "    <tr>\n",
       "      <th>0</th>\n",
       "      <td>NaN</td>\n",
       "      <td>204.890455</td>\n",
       "      <td>20791.318981</td>\n",
       "      <td>7.300212</td>\n",
       "      <td>368.516441</td>\n",
       "      <td>564.308654</td>\n",
       "      <td>10.379783</td>\n",
       "      <td>86.990970</td>\n",
       "      <td>2.963135</td>\n",
       "      <td>0</td>\n",
       "    </tr>\n",
       "    <tr>\n",
       "      <th>1</th>\n",
       "      <td>3.716080</td>\n",
       "      <td>129.422921</td>\n",
       "      <td>18630.057858</td>\n",
       "      <td>6.635246</td>\n",
       "      <td>NaN</td>\n",
       "      <td>592.885359</td>\n",
       "      <td>15.180013</td>\n",
       "      <td>56.329076</td>\n",
       "      <td>4.500656</td>\n",
       "      <td>0</td>\n",
       "    </tr>\n",
       "    <tr>\n",
       "      <th>2</th>\n",
       "      <td>8.099124</td>\n",
       "      <td>224.236259</td>\n",
       "      <td>19909.541732</td>\n",
       "      <td>9.275884</td>\n",
       "      <td>NaN</td>\n",
       "      <td>418.606213</td>\n",
       "      <td>16.868637</td>\n",
       "      <td>66.420093</td>\n",
       "      <td>3.055934</td>\n",
       "      <td>0</td>\n",
       "    </tr>\n",
       "    <tr>\n",
       "      <th>3</th>\n",
       "      <td>8.316766</td>\n",
       "      <td>214.373394</td>\n",
       "      <td>22018.417441</td>\n",
       "      <td>8.059332</td>\n",
       "      <td>356.886136</td>\n",
       "      <td>363.266516</td>\n",
       "      <td>18.436524</td>\n",
       "      <td>100.341674</td>\n",
       "      <td>4.628771</td>\n",
       "      <td>0</td>\n",
       "    </tr>\n",
       "    <tr>\n",
       "      <th>4</th>\n",
       "      <td>9.092223</td>\n",
       "      <td>181.101509</td>\n",
       "      <td>17978.986339</td>\n",
       "      <td>6.546600</td>\n",
       "      <td>310.135738</td>\n",
       "      <td>398.410813</td>\n",
       "      <td>11.558279</td>\n",
       "      <td>31.997993</td>\n",
       "      <td>4.075075</td>\n",
       "      <td>0</td>\n",
       "    </tr>\n",
       "  </tbody>\n",
       "</table>\n",
       "</div>"
      ],
      "text/plain": [
       "         ph    Hardness        Solids  Chloramines     Sulfate  Conductivity  \\\n",
       "0       NaN  204.890455  20791.318981     7.300212  368.516441    564.308654   \n",
       "1  3.716080  129.422921  18630.057858     6.635246         NaN    592.885359   \n",
       "2  8.099124  224.236259  19909.541732     9.275884         NaN    418.606213   \n",
       "3  8.316766  214.373394  22018.417441     8.059332  356.886136    363.266516   \n",
       "4  9.092223  181.101509  17978.986339     6.546600  310.135738    398.410813   \n",
       "\n",
       "   Organic_carbon  Trihalomethanes  Turbidity  Potability  \n",
       "0       10.379783        86.990970   2.963135           0  \n",
       "1       15.180013        56.329076   4.500656           0  \n",
       "2       16.868637        66.420093   3.055934           0  \n",
       "3       18.436524       100.341674   4.628771           0  \n",
       "4       11.558279        31.997993   4.075075           0  "
      ]
     },
     "execution_count": 10,
     "metadata": {},
     "output_type": "execute_result"
    }
   ],
   "source": [
    "df = pd.read_csv(\"water_potability.csv\")\n",
    "df.head()"
   ]
  },
  {
   "cell_type": "code",
   "execution_count": 11,
   "metadata": {
    "id": "T_O7d7G6daEl"
   },
   "outputs": [],
   "source": [
    "imputer = KNNImputer(n_neighbors=5)\n",
    "imp = imputer.fit_transform(df)\n",
    "df = pd.DataFrame(imp, columns = df.columns)"
   ]
  },
  {
   "cell_type": "code",
   "execution_count": 12,
   "metadata": {
    "id": "YNjizfucdcmm"
   },
   "outputs": [],
   "source": [
    "# Separating the predictors and response - THIS IS HOW ALL SKLEARN OBJECTS ACCEPT DATA (different from statsmodels)\n",
    "y = df.Potability\n",
    "X = df.drop(\"Potability\", axis = 1)\n",
    "\n",
    "y_copy= y.copy()\n",
    "X_copy= X.copy()"
   ]
  },
  {
   "cell_type": "code",
   "execution_count": 13,
   "metadata": {
    "id": "YUNbupszdfY6"
   },
   "outputs": [],
   "source": [
    "# Creating training and test data\n",
    "    # 80-20 split, which is usual - 70-30 split is also fine, 90-10 is fine if the dataset is large\n",
    "    # random_state to set a random seed for the splitting - reproducible results\n",
    "X_train, X_test, y_train, y_test = train_test_split(X, y, test_size = 0.2, random_state = 45)"
   ]
  },
  {
   "cell_type": "code",
   "execution_count": 14,
   "metadata": {
    "id": "xbkbM3rXdhNx"
   },
   "outputs": [],
   "source": [
    "# With linear/logistic regression in scikit-learn, especially when the predictors have different orders \n",
    "# of magn., scaling is necessary. This is to enable the training algo. which we did not cover. (Gradient Descent)\n",
    "scaler = StandardScaler().fit(X_train)\n",
    "X_train_scaled = scaler.transform(X_train)\n",
    "X_test_scaled = scaler.transform(X_test) # Do NOT refit the scaler with the test data, just transform it."
   ]
  },
  {
   "cell_type": "code",
   "execution_count": 15,
   "metadata": {
    "id": "0b53BPAUMCe4"
   },
   "outputs": [],
   "source": [
    "X_train = pd.DataFrame(X_train, columns = X.columns)"
   ]
  },
  {
   "cell_type": "code",
   "execution_count": 16,
   "metadata": {
    "id": "6eYRQUjEdjv3"
   },
   "outputs": [],
   "source": [
    "X_train_og = X_train.copy()\n",
    "X_test_og = X_test.copy()\n",
    "\n",
    "X_train = X_train_scaled\n",
    "X_test = X_test_scaled"
   ]
  },
  {
   "cell_type": "markdown",
   "metadata": {
    "id": "Fym_yWIJdtNw"
   },
   "source": [
    "# AdaBoost Model"
   ]
  },
  {
   "cell_type": "code",
   "execution_count": 17,
   "metadata": {
    "id": "opHIPd6WoIIp"
   },
   "outputs": [
    {
     "ename": "TypeError",
     "evalue": "__init__() got an unexpected keyword argument 'estimator'",
     "output_type": "error",
     "traceback": [
      "\u001b[0;31m---------------------------------------------------------------------------\u001b[0m",
      "\u001b[0;31mTypeError\u001b[0m                                 Traceback (most recent call last)",
      "Input \u001b[0;32mIn [17]\u001b[0m, in \u001b[0;36m<cell line: 1>\u001b[0;34m()\u001b[0m\n\u001b[0;32m----> 1\u001b[0m model_Ada \u001b[38;5;241m=\u001b[39m \u001b[43mAdaBoostClassifier\u001b[49m\u001b[43m(\u001b[49m\u001b[43mrandom_state\u001b[49m\u001b[38;5;241;43m=\u001b[39;49m\u001b[38;5;241;43m1\u001b[39;49m\u001b[43m,\u001b[49m\u001b[43mestimator\u001b[49m\u001b[43m \u001b[49m\u001b[38;5;241;43m=\u001b[39;49m\u001b[43m \u001b[49m\u001b[43mDecisionTreeClassifier\u001b[49m\u001b[43m(\u001b[49m\u001b[43mmax_depth\u001b[49m\u001b[38;5;241;43m=\u001b[39;49m\u001b[38;5;241;43m10\u001b[39;49m\u001b[43m)\u001b[49m\u001b[43m,\u001b[49m\u001b[43mlearning_rate\u001b[49m\u001b[38;5;241;43m=\u001b[39;49m\u001b[38;5;241;43m1\u001b[39;49m\u001b[43m,\u001b[49m\n\u001b[1;32m      2\u001b[0m \u001b[43m                          \u001b[49m\u001b[43mn_estimators\u001b[49m\u001b[38;5;241;43m=\u001b[39;49m\u001b[38;5;241;43m1000\u001b[39;49m\u001b[43m)\u001b[49m\u001b[38;5;241m.\u001b[39mfit(X_train,y_train)\n",
      "\u001b[0;31mTypeError\u001b[0m: __init__() got an unexpected keyword argument 'estimator'"
     ]
    }
   ],
   "source": [
    "model_Ada = AdaBoostClassifier(random_state=1,estimator = DecisionTreeClassifier(max_depth=10),learning_rate=1,\n",
    "                          n_estimators=1000).fit(X_train,y_train)"
   ]
  },
  {
   "cell_type": "code",
   "execution_count": 18,
   "metadata": {
    "colab": {
     "base_uri": "https://localhost:8080/",
     "height": 332
    },
    "id": "YLn0KxADKxSe",
    "outputId": "cd928a28-7d06-4e81-b207-a2fefca8d188"
   },
   "outputs": [
    {
     "ename": "AttributeError",
     "evalue": "'numpy.ndarray' object has no attribute 'columns'",
     "output_type": "error",
     "traceback": [
      "\u001b[0;31m---------------------------------------------------------------------------\u001b[0m",
      "\u001b[0;31mAttributeError\u001b[0m                            Traceback (most recent call last)",
      "Input \u001b[0;32mIn [18]\u001b[0m, in \u001b[0;36m<cell line: 1>\u001b[0;34m()\u001b[0m\n\u001b[0;32m----> 1\u001b[0m Ada_featImp \u001b[38;5;241m=\u001b[39m pd\u001b[38;5;241m.\u001b[39mconcat([pd\u001b[38;5;241m.\u001b[39mSeries(\u001b[43mX_train\u001b[49m\u001b[38;5;241;43m.\u001b[39;49m\u001b[43mcolumns\u001b[49m),pd\u001b[38;5;241m.\u001b[39mSeries(model_Ada\u001b[38;5;241m.\u001b[39mfeature_importances_),],axis\u001b[38;5;241m=\u001b[39m\u001b[38;5;241m1\u001b[39m)\u001b[38;5;241m.\u001b[39msort_values(by \u001b[38;5;241m=\u001b[39m \u001b[38;5;241m0\u001b[39m,ascending \u001b[38;5;241m=\u001b[39m \u001b[38;5;28;01mFalse\u001b[39;00m)\n\u001b[1;32m      2\u001b[0m Ada_featImp\n",
      "\u001b[0;31mAttributeError\u001b[0m: 'numpy.ndarray' object has no attribute 'columns'"
     ]
    }
   ],
   "source": [
    "Ada_featImp = pd.concat([pd.Series(X_train.columns),pd.Series(model_Ada.feature_importances_),],axis=1).sort_values(by = 0,ascending = False)\n",
    "Ada_featImp"
   ]
  },
  {
   "cell_type": "code",
   "execution_count": 87,
   "metadata": {
    "id": "Yhzk_h6mOw_B"
   },
   "outputs": [],
   "source": [
    "Ada_featImp = Ada_featImp.sort_index()"
   ]
  },
  {
   "cell_type": "markdown",
   "metadata": {
    "id": "qh9fAZczeYFk"
   },
   "source": [
    "### XGB"
   ]
  },
  {
   "cell_type": "code",
   "execution_count": 19,
   "metadata": {
    "colab": {
     "base_uri": "https://localhost:8080/",
     "height": 248
    },
    "id": "x-5-iJ4KiQIi",
    "outputId": "b43edb6b-42e4-40c0-a1cc-6be713d1d34b"
   },
   "outputs": [
    {
     "data": {
      "text/plain": [
       "XGBClassifier(base_score=None, booster=None, callbacks=None,\n",
       "              colsample_bylevel=None, colsample_bynode=None,\n",
       "              colsample_bytree=0.9, early_stopping_rounds=None,\n",
       "              enable_categorical=False, eval_metric=None, feature_types=None,\n",
       "              gamma=1, gpu_id=None, grow_policy=None, importance_type=None,\n",
       "              interaction_constraints=None, learning_rate=0.001, max_bin=None,\n",
       "              max_cat_threshold=None, max_cat_to_onehot=None,\n",
       "              max_delta_step=None, max_depth=12, max_leaves=None,\n",
       "              min_child_weight=None, missing=nan, monotone_constraints=None,\n",
       "              n_estimators=500, n_jobs=-1, num_parallel_tree=None,\n",
       "              predictor=None, random_state=1, ...)"
      ]
     },
     "execution_count": 19,
     "metadata": {},
     "output_type": "execute_result"
    }
   ],
   "source": [
    "model_XGB = xgb.XGBClassifier(objective = 'binary:logistic',random_state=1,gamma=1,learning_rate = .001,max_depth=12,\n",
    "                              n_estimators = 500,reg_lambda = .1,reg_alpha = 1, scale_pos_weight=1.589, \n",
    "                              subsample = 0.2, colsample_bytree = 0.9, n_jobs = -1)\n",
    "model_XGB.fit(X_train,y_train)"
   ]
  },
  {
   "cell_type": "code",
   "execution_count": 20,
   "metadata": {
    "colab": {
     "base_uri": "https://localhost:8080/",
     "height": 332
    },
    "id": "AtwfMabPMfNG",
    "outputId": "3313f3de-b48b-4511-ffd4-964d48774e2b"
   },
   "outputs": [
    {
     "ename": "AttributeError",
     "evalue": "'numpy.ndarray' object has no attribute 'columns'",
     "output_type": "error",
     "traceback": [
      "\u001b[0;31m---------------------------------------------------------------------------\u001b[0m",
      "\u001b[0;31mAttributeError\u001b[0m                            Traceback (most recent call last)",
      "Input \u001b[0;32mIn [20]\u001b[0m, in \u001b[0;36m<cell line: 1>\u001b[0;34m()\u001b[0m\n\u001b[0;32m----> 1\u001b[0m XGB_featImp \u001b[38;5;241m=\u001b[39m pd\u001b[38;5;241m.\u001b[39mconcat([pd\u001b[38;5;241m.\u001b[39mSeries(\u001b[43mX_train\u001b[49m\u001b[38;5;241;43m.\u001b[39;49m\u001b[43mcolumns\u001b[49m), pd\u001b[38;5;241m.\u001b[39mSeries(model_XGB\u001b[38;5;241m.\u001b[39mfeature_importances_)],axis\u001b[38;5;241m=\u001b[39m\u001b[38;5;241m1\u001b[39m)\u001b[38;5;241m.\u001b[39msort_values(by \u001b[38;5;241m=\u001b[39m \u001b[38;5;241m0\u001b[39m,ascending \u001b[38;5;241m=\u001b[39m \u001b[38;5;28;01mFalse\u001b[39;00m)\n\u001b[1;32m      2\u001b[0m XGB_featImp\n",
      "\u001b[0;31mAttributeError\u001b[0m: 'numpy.ndarray' object has no attribute 'columns'"
     ]
    }
   ],
   "source": [
    "XGB_featImp = pd.concat([pd.Series(X_train.columns), pd.Series(model_XGB.feature_importances_)],axis=1).sort_values(by = 0,ascending = False)\n",
    "XGB_featImp"
   ]
  },
  {
   "cell_type": "code",
   "execution_count": 89,
   "metadata": {
    "id": "IfMzQHgeSXqQ"
   },
   "outputs": [],
   "source": [
    "XGB_featImp = XGB_featImp.sort_index()"
   ]
  },
  {
   "cell_type": "markdown",
   "metadata": {
    "id": "o5q1zax0ioYQ"
   },
   "source": [
    "### Random Forest Model Tuning"
   ]
  },
  {
   "cell_type": "code",
   "execution_count": 21,
   "metadata": {
    "id": "i1m_IEDTiuvN"
   },
   "outputs": [],
   "source": [
    "model_randomForest = RandomForestClassifier(random_state=1, max_features=4, n_estimators = 100, \n",
    "                               oob_score=True, max_depth =12, max_leaf_nodes = 36).fit(X_train, y_train)"
   ]
  },
  {
   "cell_type": "code",
   "execution_count": 22,
   "metadata": {
    "colab": {
     "base_uri": "https://localhost:8080/",
     "height": 332
    },
    "id": "_5wXOmtOMlJ0",
    "outputId": "2d90dd6e-0159-4242-cd7a-b30ce8c98242"
   },
   "outputs": [
    {
     "ename": "AttributeError",
     "evalue": "'numpy.ndarray' object has no attribute 'columns'",
     "output_type": "error",
     "traceback": [
      "\u001b[0;31m---------------------------------------------------------------------------\u001b[0m",
      "\u001b[0;31mAttributeError\u001b[0m                            Traceback (most recent call last)",
      "Input \u001b[0;32mIn [22]\u001b[0m, in \u001b[0;36m<cell line: 1>\u001b[0;34m()\u001b[0m\n\u001b[0;32m----> 1\u001b[0m RF_featImp \u001b[38;5;241m=\u001b[39m pd\u001b[38;5;241m.\u001b[39mconcat([pd\u001b[38;5;241m.\u001b[39mSeries(\u001b[43mX_train\u001b[49m\u001b[38;5;241;43m.\u001b[39;49m\u001b[43mcolumns\u001b[49m), pd\u001b[38;5;241m.\u001b[39mSeries(model_randomForest\u001b[38;5;241m.\u001b[39mfeature_importances_)],axis\u001b[38;5;241m=\u001b[39m\u001b[38;5;241m1\u001b[39m)\u001b[38;5;241m.\u001b[39msort_values(by \u001b[38;5;241m=\u001b[39m \u001b[38;5;241m0\u001b[39m,ascending \u001b[38;5;241m=\u001b[39m \u001b[38;5;28;01mFalse\u001b[39;00m)\n\u001b[1;32m      2\u001b[0m RF_featImp\n",
      "\u001b[0;31mAttributeError\u001b[0m: 'numpy.ndarray' object has no attribute 'columns'"
     ]
    }
   ],
   "source": [
    "RF_featImp = pd.concat([pd.Series(X_train.columns), pd.Series(model_randomForest.feature_importances_)],axis=1).sort_values(by = 0,ascending = False)\n",
    "RF_featImp"
   ]
  },
  {
   "cell_type": "code",
   "execution_count": 91,
   "metadata": {
    "id": "i9hguYMMSaLJ"
   },
   "outputs": [],
   "source": [
    "RF_featImp = RF_featImp.sort_index()"
   ]
  },
  {
   "cell_type": "markdown",
   "metadata": {
    "id": "7LbrIDgAjNTU"
   },
   "source": [
    "### Bagged Decision Tree"
   ]
  },
  {
   "cell_type": "code",
   "execution_count": 23,
   "metadata": {
    "colab": {
     "base_uri": "https://localhost:8080/"
    },
    "id": "a_g6xDFrja3K",
    "outputId": "2e7867c8-94a8-4b1b-bfd7-5f557852c4cb"
   },
   "outputs": [],
   "source": [
    "model_BaggedTree = BaggingClassifier(base_estimator=DecisionTreeClassifier(random_state=1), n_estimators=500, \n",
    "                          random_state=1,max_features=0.5, oob_score=True,\n",
    "                        max_samples=0.25,n_jobs=-1,bootstrap=True,bootstrap_features=True).fit(X_train, y_train)"
   ]
  },
  {
   "cell_type": "code",
   "execution_count": 24,
   "metadata": {
    "colab": {
     "base_uri": "https://localhost:8080/",
     "height": 169
    },
    "id": "9M7lyyQANhM-",
    "outputId": "cf5f9ff3-54d1-4f86-f911-51c2e220d2ae"
   },
   "outputs": [
    {
     "ename": "AttributeError",
     "evalue": "'BaggingClassifier' object has no attribute 'best_estimator_'",
     "output_type": "error",
     "traceback": [
      "\u001b[0;31m---------------------------------------------------------------------------\u001b[0m",
      "\u001b[0;31mAttributeError\u001b[0m                            Traceback (most recent call last)",
      "Input \u001b[0;32mIn [24]\u001b[0m, in \u001b[0;36m<cell line: 1>\u001b[0;34m()\u001b[0m\n\u001b[0;32m----> 1\u001b[0m model_BaggedTree_best \u001b[38;5;241m=\u001b[39m \u001b[43mmodel_BaggedTree\u001b[49m\u001b[38;5;241;43m.\u001b[39;49m\u001b[43mbest_estimator_\u001b[49m\n",
      "\u001b[0;31mAttributeError\u001b[0m: 'BaggingClassifier' object has no attribute 'best_estimator_'"
     ]
    }
   ],
   "source": [
    "model_BaggedTree_best = model_BaggedTree.best_estimator_"
   ]
  },
  {
   "cell_type": "code",
   "execution_count": 25,
   "metadata": {
    "id": "_glprYanM90i"
   },
   "outputs": [],
   "source": [
    "BT_feature_importances = np.mean([\n",
    "    tree.feature_importances_ for tree in model_BaggedTree.estimators_\n",
    "], axis=0)\n"
   ]
  },
  {
   "cell_type": "code",
   "execution_count": 26,
   "metadata": {
    "colab": {
     "base_uri": "https://localhost:8080/"
    },
    "id": "1Zft7EJdNEoD",
    "outputId": "a952e974-f7fe-4de2-c26e-e0921e3a986e"
   },
   "outputs": [
    {
     "data": {
      "text/plain": [
       "array([0.25224147, 0.24829219, 0.25139262, 0.24807371])"
      ]
     },
     "execution_count": 26,
     "metadata": {},
     "output_type": "execute_result"
    }
   ],
   "source": [
    "BT_feature_importances"
   ]
  },
  {
   "cell_type": "code",
   "execution_count": 27,
   "metadata": {
    "colab": {
     "base_uri": "https://localhost:8080/",
     "height": 204
    },
    "id": "1_09PS3XMsVF",
    "outputId": "56cc5277-035c-4a54-b6c1-b993e3f901e9"
   },
   "outputs": [
    {
     "ename": "AttributeError",
     "evalue": "'BaggingClassifier' object has no attribute 'feature_importances_'",
     "output_type": "error",
     "traceback": [
      "\u001b[0;31m---------------------------------------------------------------------------\u001b[0m",
      "\u001b[0;31mAttributeError\u001b[0m                            Traceback (most recent call last)",
      "Input \u001b[0;32mIn [27]\u001b[0m, in \u001b[0;36m<cell line: 1>\u001b[0;34m()\u001b[0m\n\u001b[0;32m----> 1\u001b[0m BT_featImp \u001b[38;5;241m=\u001b[39m pd\u001b[38;5;241m.\u001b[39mconcat([pd\u001b[38;5;241m.\u001b[39mSeries(\u001b[43mmodel_BaggedTree\u001b[49m\u001b[38;5;241;43m.\u001b[39;49m\u001b[43mfeature_importances_\u001b[49m),\n\u001b[1;32m      2\u001b[0m            pd\u001b[38;5;241m.\u001b[39mSeries(X_train\u001b[38;5;241m.\u001b[39mcolumns)],axis\u001b[38;5;241m=\u001b[39m\u001b[38;5;241m1\u001b[39m)\u001b[38;5;241m.\u001b[39msort_values(by \u001b[38;5;241m=\u001b[39m \u001b[38;5;241m0\u001b[39m,ascending \u001b[38;5;241m=\u001b[39m \u001b[38;5;28;01mFalse\u001b[39;00m)\n\u001b[1;32m      3\u001b[0m BT_featImp\n",
      "\u001b[0;31mAttributeError\u001b[0m: 'BaggingClassifier' object has no attribute 'feature_importances_'"
     ]
    }
   ],
   "source": [
    "BT_featImp = pd.concat([pd.Series(model_BaggedTree.feature_importances_),\n",
    "           pd.Series(X_train.columns)],axis=1).sort_values(by = 0,ascending = False)\n",
    "BT_featImp"
   ]
  },
  {
   "cell_type": "markdown",
   "metadata": {
    "id": "JjWZS9EmjSJ2"
   },
   "source": [
    "### Gradient Boosting "
   ]
  },
  {
   "cell_type": "code",
   "execution_count": 28,
   "metadata": {
    "id": "zEkt7oT9jVQK"
   },
   "outputs": [],
   "source": [
    "model_GradBoost = GradientBoostingClassifier(random_state=1,max_depth=7,learning_rate=0.005,subsample=0.65,\n",
    "                          n_estimators=60, max_features=3).fit(X_train,y_train)"
   ]
  },
  {
   "cell_type": "code",
   "execution_count": 29,
   "metadata": {
    "colab": {
     "base_uri": "https://localhost:8080/",
     "height": 332
    },
    "id": "s-Gs0O4FK7sw",
    "outputId": "e552bec8-aa93-42ce-9de9-6e2f4abc87f8"
   },
   "outputs": [
    {
     "ename": "AttributeError",
     "evalue": "'numpy.ndarray' object has no attribute 'columns'",
     "output_type": "error",
     "traceback": [
      "\u001b[0;31m---------------------------------------------------------------------------\u001b[0m",
      "\u001b[0;31mAttributeError\u001b[0m                            Traceback (most recent call last)",
      "Input \u001b[0;32mIn [29]\u001b[0m, in \u001b[0;36m<cell line: 1>\u001b[0;34m()\u001b[0m\n\u001b[0;32m----> 1\u001b[0m GB_featImp \u001b[38;5;241m=\u001b[39m pd\u001b[38;5;241m.\u001b[39mconcat([pd\u001b[38;5;241m.\u001b[39mSeries(\u001b[43mX_train\u001b[49m\u001b[38;5;241;43m.\u001b[39;49m\u001b[43mcolumns\u001b[49m), pd\u001b[38;5;241m.\u001b[39mSeries(model_GradBoost\u001b[38;5;241m.\u001b[39mfeature_importances_)],axis\u001b[38;5;241m=\u001b[39m\u001b[38;5;241m1\u001b[39m)\u001b[38;5;241m.\u001b[39msort_values(by \u001b[38;5;241m=\u001b[39m \u001b[38;5;241m0\u001b[39m,ascending \u001b[38;5;241m=\u001b[39m \u001b[38;5;28;01mFalse\u001b[39;00m)\n\u001b[1;32m      2\u001b[0m GB_featImp\n",
      "\u001b[0;31mAttributeError\u001b[0m: 'numpy.ndarray' object has no attribute 'columns'"
     ]
    }
   ],
   "source": [
    "GB_featImp = pd.concat([pd.Series(X_train.columns), pd.Series(model_GradBoost.feature_importances_)],axis=1).sort_values(by = 0,ascending = False)\n",
    "GB_featImp"
   ]
  },
  {
   "cell_type": "code",
   "execution_count": 30,
   "metadata": {
    "id": "D8-0sQY7SeZI"
   },
   "outputs": [
    {
     "ename": "NameError",
     "evalue": "name 'GB_featImp' is not defined",
     "output_type": "error",
     "traceback": [
      "\u001b[0;31m---------------------------------------------------------------------------\u001b[0m",
      "\u001b[0;31mNameError\u001b[0m                                 Traceback (most recent call last)",
      "Input \u001b[0;32mIn [30]\u001b[0m, in \u001b[0;36m<cell line: 1>\u001b[0;34m()\u001b[0m\n\u001b[0;32m----> 1\u001b[0m GB_featImp \u001b[38;5;241m=\u001b[39m \u001b[43mGB_featImp\u001b[49m\u001b[38;5;241m.\u001b[39msort_index()\n",
      "\u001b[0;31mNameError\u001b[0m: name 'GB_featImp' is not defined"
     ]
    }
   ],
   "source": [
    "GB_featImp = GB_featImp.sort_index()"
   ]
  },
  {
   "cell_type": "markdown",
   "metadata": {
    "id": "ruxJcaX0pHJj"
   },
   "source": [
    "### CatBoost"
   ]
  },
  {
   "cell_type": "code",
   "execution_count": 31,
   "metadata": {
    "colab": {
     "base_uri": "https://localhost:8080/"
    },
    "id": "cNvj_mYai0bl",
    "outputId": "ae3920be-3385-4775-dded-298c747d1a0f"
   },
   "outputs": [
    {
     "name": "stdout",
     "output_type": "stream",
     "text": [
      "0:\tlearn: 0.6912284\ttotal: 66.8ms\tremaining: 33.3s\n",
      "1:\tlearn: 0.6886908\ttotal: 69.4ms\tremaining: 17.3s\n",
      "2:\tlearn: 0.6859679\ttotal: 71.8ms\tremaining: 11.9s\n",
      "3:\tlearn: 0.6845095\ttotal: 74.4ms\tremaining: 9.22s\n",
      "4:\tlearn: 0.6825136\ttotal: 76.7ms\tremaining: 7.59s\n",
      "5:\tlearn: 0.6804034\ttotal: 78.9ms\tremaining: 6.5s\n",
      "6:\tlearn: 0.6786175\ttotal: 81.3ms\tremaining: 5.72s\n",
      "7:\tlearn: 0.6769072\ttotal: 83.5ms\tremaining: 5.13s\n",
      "8:\tlearn: 0.6756401\ttotal: 85.9ms\tremaining: 4.69s\n",
      "9:\tlearn: 0.6735892\ttotal: 88.6ms\tremaining: 4.34s\n",
      "10:\tlearn: 0.6719775\ttotal: 91ms\tremaining: 4.05s\n",
      "11:\tlearn: 0.6695278\ttotal: 94ms\tremaining: 3.82s\n",
      "12:\tlearn: 0.6675876\ttotal: 96.6ms\tremaining: 3.62s\n",
      "13:\tlearn: 0.6649929\ttotal: 98.9ms\tremaining: 3.43s\n",
      "14:\tlearn: 0.6630861\ttotal: 102ms\tremaining: 3.29s\n",
      "15:\tlearn: 0.6607409\ttotal: 104ms\tremaining: 3.16s\n",
      "16:\tlearn: 0.6587926\ttotal: 107ms\tremaining: 3.04s\n",
      "17:\tlearn: 0.6573300\ttotal: 109ms\tremaining: 2.92s\n",
      "18:\tlearn: 0.6556813\ttotal: 112ms\tremaining: 2.83s\n",
      "19:\tlearn: 0.6534683\ttotal: 114ms\tremaining: 2.75s\n",
      "20:\tlearn: 0.6510416\ttotal: 117ms\tremaining: 2.66s\n",
      "21:\tlearn: 0.6483297\ttotal: 120ms\tremaining: 2.6s\n",
      "22:\tlearn: 0.6470305\ttotal: 122ms\tremaining: 2.54s\n",
      "23:\tlearn: 0.6450019\ttotal: 125ms\tremaining: 2.47s\n",
      "24:\tlearn: 0.6417314\ttotal: 127ms\tremaining: 2.42s\n",
      "25:\tlearn: 0.6390899\ttotal: 130ms\tremaining: 2.36s\n",
      "26:\tlearn: 0.6375697\ttotal: 132ms\tremaining: 2.32s\n",
      "27:\tlearn: 0.6355639\ttotal: 135ms\tremaining: 2.28s\n",
      "28:\tlearn: 0.6337567\ttotal: 138ms\tremaining: 2.24s\n",
      "29:\tlearn: 0.6315384\ttotal: 140ms\tremaining: 2.19s\n",
      "30:\tlearn: 0.6300544\ttotal: 143ms\tremaining: 2.16s\n",
      "31:\tlearn: 0.6279813\ttotal: 145ms\tremaining: 2.13s\n",
      "32:\tlearn: 0.6262957\ttotal: 148ms\tremaining: 2.1s\n",
      "33:\tlearn: 0.6250875\ttotal: 151ms\tremaining: 2.07s\n",
      "34:\tlearn: 0.6240201\ttotal: 153ms\tremaining: 2.04s\n",
      "35:\tlearn: 0.6222827\ttotal: 156ms\tremaining: 2s\n",
      "36:\tlearn: 0.6211887\ttotal: 158ms\tremaining: 1.98s\n",
      "37:\tlearn: 0.6192575\ttotal: 161ms\tremaining: 1.95s\n",
      "38:\tlearn: 0.6173445\ttotal: 163ms\tremaining: 1.93s\n",
      "39:\tlearn: 0.6148643\ttotal: 166ms\tremaining: 1.9s\n",
      "40:\tlearn: 0.6131261\ttotal: 168ms\tremaining: 1.88s\n",
      "41:\tlearn: 0.6119955\ttotal: 170ms\tremaining: 1.86s\n",
      "42:\tlearn: 0.6101484\ttotal: 173ms\tremaining: 1.84s\n",
      "43:\tlearn: 0.6090335\ttotal: 176ms\tremaining: 1.82s\n",
      "44:\tlearn: 0.6075112\ttotal: 178ms\tremaining: 1.8s\n",
      "45:\tlearn: 0.6053949\ttotal: 181ms\tremaining: 1.78s\n",
      "46:\tlearn: 0.6039677\ttotal: 183ms\tremaining: 1.76s\n",
      "47:\tlearn: 0.6019767\ttotal: 186ms\tremaining: 1.75s\n",
      "48:\tlearn: 0.6003701\ttotal: 188ms\tremaining: 1.73s\n",
      "49:\tlearn: 0.5987558\ttotal: 191ms\tremaining: 1.72s\n",
      "50:\tlearn: 0.5971536\ttotal: 193ms\tremaining: 1.7s\n",
      "51:\tlearn: 0.5959627\ttotal: 196ms\tremaining: 1.69s\n",
      "52:\tlearn: 0.5950566\ttotal: 198ms\tremaining: 1.67s\n",
      "53:\tlearn: 0.5928988\ttotal: 201ms\tremaining: 1.66s\n",
      "54:\tlearn: 0.5911923\ttotal: 203ms\tremaining: 1.64s\n",
      "55:\tlearn: 0.5899922\ttotal: 205ms\tremaining: 1.63s\n",
      "56:\tlearn: 0.5880327\ttotal: 208ms\tremaining: 1.61s\n",
      "57:\tlearn: 0.5865124\ttotal: 210ms\tremaining: 1.6s\n",
      "58:\tlearn: 0.5854775\ttotal: 213ms\tremaining: 1.59s\n",
      "59:\tlearn: 0.5845010\ttotal: 215ms\tremaining: 1.58s\n",
      "60:\tlearn: 0.5831514\ttotal: 218ms\tremaining: 1.57s\n",
      "61:\tlearn: 0.5819363\ttotal: 220ms\tremaining: 1.56s\n",
      "62:\tlearn: 0.5809144\ttotal: 223ms\tremaining: 1.54s\n",
      "63:\tlearn: 0.5790198\ttotal: 225ms\tremaining: 1.53s\n",
      "64:\tlearn: 0.5777147\ttotal: 227ms\tremaining: 1.52s\n",
      "65:\tlearn: 0.5756322\ttotal: 230ms\tremaining: 1.51s\n",
      "66:\tlearn: 0.5736861\ttotal: 232ms\tremaining: 1.5s\n",
      "67:\tlearn: 0.5729936\ttotal: 235ms\tremaining: 1.49s\n",
      "68:\tlearn: 0.5710325\ttotal: 238ms\tremaining: 1.49s\n",
      "69:\tlearn: 0.5694466\ttotal: 240ms\tremaining: 1.48s\n",
      "70:\tlearn: 0.5675841\ttotal: 243ms\tremaining: 1.47s\n",
      "71:\tlearn: 0.5658893\ttotal: 246ms\tremaining: 1.46s\n",
      "72:\tlearn: 0.5642347\ttotal: 248ms\tremaining: 1.45s\n",
      "73:\tlearn: 0.5624625\ttotal: 251ms\tremaining: 1.44s\n",
      "74:\tlearn: 0.5611592\ttotal: 253ms\tremaining: 1.44s\n",
      "75:\tlearn: 0.5592849\ttotal: 256ms\tremaining: 1.43s\n",
      "76:\tlearn: 0.5585935\ttotal: 258ms\tremaining: 1.42s\n",
      "77:\tlearn: 0.5569324\ttotal: 263ms\tremaining: 1.42s\n",
      "78:\tlearn: 0.5562681\ttotal: 265ms\tremaining: 1.41s\n",
      "79:\tlearn: 0.5552358\ttotal: 267ms\tremaining: 1.4s\n",
      "80:\tlearn: 0.5541069\ttotal: 270ms\tremaining: 1.4s\n",
      "81:\tlearn: 0.5524525\ttotal: 273ms\tremaining: 1.39s\n",
      "82:\tlearn: 0.5517440\ttotal: 275ms\tremaining: 1.38s\n",
      "83:\tlearn: 0.5505134\ttotal: 278ms\tremaining: 1.38s\n",
      "84:\tlearn: 0.5492510\ttotal: 282ms\tremaining: 1.38s\n",
      "85:\tlearn: 0.5480686\ttotal: 285ms\tremaining: 1.37s\n",
      "86:\tlearn: 0.5465831\ttotal: 287ms\tremaining: 1.36s\n",
      "87:\tlearn: 0.5456766\ttotal: 290ms\tremaining: 1.36s\n",
      "88:\tlearn: 0.5451244\ttotal: 292ms\tremaining: 1.35s\n",
      "89:\tlearn: 0.5437232\ttotal: 295ms\tremaining: 1.34s\n",
      "90:\tlearn: 0.5432395\ttotal: 297ms\tremaining: 1.33s\n",
      "91:\tlearn: 0.5424884\ttotal: 299ms\tremaining: 1.33s\n",
      "92:\tlearn: 0.5416286\ttotal: 302ms\tremaining: 1.32s\n",
      "93:\tlearn: 0.5407906\ttotal: 304ms\tremaining: 1.31s\n",
      "94:\tlearn: 0.5396894\ttotal: 306ms\tremaining: 1.31s\n",
      "95:\tlearn: 0.5385149\ttotal: 309ms\tremaining: 1.3s\n",
      "96:\tlearn: 0.5371637\ttotal: 311ms\tremaining: 1.29s\n",
      "97:\tlearn: 0.5359271\ttotal: 314ms\tremaining: 1.29s\n",
      "98:\tlearn: 0.5351805\ttotal: 317ms\tremaining: 1.28s\n",
      "99:\tlearn: 0.5335875\ttotal: 319ms\tremaining: 1.28s\n",
      "100:\tlearn: 0.5324725\ttotal: 322ms\tremaining: 1.27s\n",
      "101:\tlearn: 0.5317392\ttotal: 324ms\tremaining: 1.26s\n",
      "102:\tlearn: 0.5304341\ttotal: 326ms\tremaining: 1.26s\n",
      "103:\tlearn: 0.5288777\ttotal: 329ms\tremaining: 1.25s\n",
      "104:\tlearn: 0.5278110\ttotal: 331ms\tremaining: 1.25s\n",
      "105:\tlearn: 0.5267246\ttotal: 333ms\tremaining: 1.24s\n",
      "106:\tlearn: 0.5252094\ttotal: 336ms\tremaining: 1.23s\n",
      "107:\tlearn: 0.5241302\ttotal: 338ms\tremaining: 1.23s\n",
      "108:\tlearn: 0.5226598\ttotal: 341ms\tremaining: 1.22s\n",
      "109:\tlearn: 0.5208823\ttotal: 343ms\tremaining: 1.22s\n",
      "110:\tlearn: 0.5197785\ttotal: 346ms\tremaining: 1.21s\n",
      "111:\tlearn: 0.5185432\ttotal: 348ms\tremaining: 1.21s\n",
      "112:\tlearn: 0.5174134\ttotal: 351ms\tremaining: 1.2s\n",
      "113:\tlearn: 0.5161189\ttotal: 353ms\tremaining: 1.2s\n",
      "114:\tlearn: 0.5147772\ttotal: 356ms\tremaining: 1.19s\n",
      "115:\tlearn: 0.5129534\ttotal: 358ms\tremaining: 1.19s\n",
      "116:\tlearn: 0.5116503\ttotal: 360ms\tremaining: 1.18s\n",
      "117:\tlearn: 0.5107919\ttotal: 363ms\tremaining: 1.17s\n",
      "118:\tlearn: 0.5099744\ttotal: 365ms\tremaining: 1.17s\n",
      "119:\tlearn: 0.5084398\ttotal: 367ms\tremaining: 1.16s\n",
      "120:\tlearn: 0.5073235\ttotal: 370ms\tremaining: 1.16s\n",
      "121:\tlearn: 0.5058984\ttotal: 372ms\tremaining: 1.15s\n",
      "122:\tlearn: 0.5050769\ttotal: 375ms\tremaining: 1.15s\n",
      "123:\tlearn: 0.5034587\ttotal: 377ms\tremaining: 1.14s\n",
      "124:\tlearn: 0.5026961\ttotal: 380ms\tremaining: 1.14s\n",
      "125:\tlearn: 0.5019917\ttotal: 382ms\tremaining: 1.13s\n",
      "126:\tlearn: 0.5009806\ttotal: 384ms\tremaining: 1.13s\n",
      "127:\tlearn: 0.4997214\ttotal: 387ms\tremaining: 1.12s\n",
      "128:\tlearn: 0.4988818\ttotal: 389ms\tremaining: 1.12s\n",
      "129:\tlearn: 0.4973978\ttotal: 391ms\tremaining: 1.11s\n",
      "130:\tlearn: 0.4959715\ttotal: 394ms\tremaining: 1.11s\n",
      "131:\tlearn: 0.4953734\ttotal: 397ms\tremaining: 1.11s\n",
      "132:\tlearn: 0.4943178\ttotal: 399ms\tremaining: 1.1s\n",
      "133:\tlearn: 0.4936203\ttotal: 401ms\tremaining: 1.1s\n",
      "134:\tlearn: 0.4921736\ttotal: 404ms\tremaining: 1.09s\n",
      "135:\tlearn: 0.4914906\ttotal: 406ms\tremaining: 1.09s\n",
      "136:\tlearn: 0.4908064\ttotal: 409ms\tremaining: 1.08s\n",
      "137:\tlearn: 0.4899601\ttotal: 411ms\tremaining: 1.08s\n",
      "138:\tlearn: 0.4892305\ttotal: 413ms\tremaining: 1.07s\n",
      "139:\tlearn: 0.4883424\ttotal: 416ms\tremaining: 1.07s\n",
      "140:\tlearn: 0.4873043\ttotal: 418ms\tremaining: 1.06s\n",
      "141:\tlearn: 0.4863699\ttotal: 420ms\tremaining: 1.06s\n",
      "142:\tlearn: 0.4854213\ttotal: 423ms\tremaining: 1.05s\n",
      "143:\tlearn: 0.4840275\ttotal: 425ms\tremaining: 1.05s\n",
      "144:\tlearn: 0.4829421\ttotal: 427ms\tremaining: 1.05s\n",
      "145:\tlearn: 0.4817807\ttotal: 430ms\tremaining: 1.04s\n",
      "146:\tlearn: 0.4803188\ttotal: 432ms\tremaining: 1.04s\n",
      "147:\tlearn: 0.4791118\ttotal: 434ms\tremaining: 1.03s\n",
      "148:\tlearn: 0.4780237\ttotal: 437ms\tremaining: 1.03s\n",
      "149:\tlearn: 0.4774207\ttotal: 439ms\tremaining: 1.02s\n",
      "150:\tlearn: 0.4764669\ttotal: 442ms\tremaining: 1.02s\n",
      "151:\tlearn: 0.4749387\ttotal: 444ms\tremaining: 1.02s\n",
      "152:\tlearn: 0.4744194\ttotal: 447ms\tremaining: 1.01s\n",
      "153:\tlearn: 0.4734077\ttotal: 449ms\tremaining: 1.01s\n",
      "154:\tlearn: 0.4726836\ttotal: 451ms\tremaining: 1s\n",
      "155:\tlearn: 0.4711579\ttotal: 454ms\tremaining: 1s\n",
      "156:\tlearn: 0.4704989\ttotal: 456ms\tremaining: 997ms\n",
      "157:\tlearn: 0.4694029\ttotal: 459ms\tremaining: 993ms\n",
      "158:\tlearn: 0.4685484\ttotal: 461ms\tremaining: 990ms\n",
      "159:\tlearn: 0.4674664\ttotal: 464ms\tremaining: 986ms\n",
      "160:\tlearn: 0.4667563\ttotal: 466ms\tremaining: 982ms\n",
      "161:\tlearn: 0.4663483\ttotal: 469ms\tremaining: 978ms\n",
      "162:\tlearn: 0.4657320\ttotal: 472ms\tremaining: 975ms\n",
      "163:\tlearn: 0.4652079\ttotal: 474ms\tremaining: 971ms\n",
      "164:\tlearn: 0.4637270\ttotal: 477ms\tremaining: 967ms\n",
      "165:\tlearn: 0.4631130\ttotal: 479ms\tremaining: 964ms\n",
      "166:\tlearn: 0.4626951\ttotal: 482ms\tremaining: 961ms\n",
      "167:\tlearn: 0.4617127\ttotal: 484ms\tremaining: 957ms\n",
      "168:\tlearn: 0.4609288\ttotal: 487ms\tremaining: 954ms\n",
      "169:\tlearn: 0.4596191\ttotal: 490ms\tremaining: 951ms\n",
      "170:\tlearn: 0.4578011\ttotal: 493ms\tremaining: 949ms\n",
      "171:\tlearn: 0.4565595\ttotal: 496ms\tremaining: 945ms\n",
      "172:\tlearn: 0.4561519\ttotal: 498ms\tremaining: 941ms\n",
      "173:\tlearn: 0.4555467\ttotal: 500ms\tremaining: 937ms\n",
      "174:\tlearn: 0.4547798\ttotal: 503ms\tremaining: 933ms\n",
      "175:\tlearn: 0.4543435\ttotal: 505ms\tremaining: 930ms\n",
      "176:\tlearn: 0.4530015\ttotal: 508ms\tremaining: 927ms\n",
      "177:\tlearn: 0.4520550\ttotal: 510ms\tremaining: 923ms\n",
      "178:\tlearn: 0.4511703\ttotal: 512ms\tremaining: 919ms\n",
      "179:\tlearn: 0.4501166\ttotal: 515ms\tremaining: 915ms\n",
      "180:\tlearn: 0.4493964\ttotal: 517ms\tremaining: 911ms\n",
      "181:\tlearn: 0.4484378\ttotal: 520ms\tremaining: 908ms\n",
      "182:\tlearn: 0.4474818\ttotal: 522ms\tremaining: 904ms\n",
      "183:\tlearn: 0.4467152\ttotal: 524ms\tremaining: 901ms\n",
      "184:\tlearn: 0.4462081\ttotal: 527ms\tremaining: 897ms\n",
      "185:\tlearn: 0.4452939\ttotal: 529ms\tremaining: 894ms\n",
      "186:\tlearn: 0.4443676\ttotal: 532ms\tremaining: 890ms\n",
      "187:\tlearn: 0.4437705\ttotal: 534ms\tremaining: 887ms\n",
      "188:\tlearn: 0.4424152\ttotal: 537ms\tremaining: 883ms\n",
      "189:\tlearn: 0.4412472\ttotal: 539ms\tremaining: 879ms\n",
      "190:\tlearn: 0.4406615\ttotal: 541ms\tremaining: 876ms\n",
      "191:\tlearn: 0.4401478\ttotal: 544ms\tremaining: 873ms\n",
      "192:\tlearn: 0.4397007\ttotal: 546ms\tremaining: 869ms\n",
      "193:\tlearn: 0.4390781\ttotal: 549ms\tremaining: 866ms\n",
      "194:\tlearn: 0.4382235\ttotal: 551ms\tremaining: 863ms\n",
      "195:\tlearn: 0.4371255\ttotal: 554ms\tremaining: 859ms\n",
      "196:\tlearn: 0.4359963\ttotal: 557ms\tremaining: 856ms\n",
      "197:\tlearn: 0.4356890\ttotal: 559ms\tremaining: 853ms\n",
      "198:\tlearn: 0.4350742\ttotal: 561ms\tremaining: 849ms\n",
      "199:\tlearn: 0.4343774\ttotal: 564ms\tremaining: 846ms\n",
      "200:\tlearn: 0.4339169\ttotal: 566ms\tremaining: 842ms\n",
      "201:\tlearn: 0.4331105\ttotal: 568ms\tremaining: 839ms\n",
      "202:\tlearn: 0.4321434\ttotal: 571ms\tremaining: 835ms\n",
      "203:\tlearn: 0.4311045\ttotal: 573ms\tremaining: 832ms\n",
      "204:\tlearn: 0.4299022\ttotal: 576ms\tremaining: 828ms\n",
      "205:\tlearn: 0.4294903\ttotal: 578ms\tremaining: 825ms\n",
      "206:\tlearn: 0.4287949\ttotal: 581ms\tremaining: 822ms\n",
      "207:\tlearn: 0.4274183\ttotal: 583ms\tremaining: 819ms\n",
      "208:\tlearn: 0.4269557\ttotal: 586ms\tremaining: 816ms\n",
      "209:\tlearn: 0.4259961\ttotal: 588ms\tremaining: 812ms\n",
      "210:\tlearn: 0.4253283\ttotal: 591ms\tremaining: 809ms\n",
      "211:\tlearn: 0.4241609\ttotal: 593ms\tremaining: 806ms\n",
      "212:\tlearn: 0.4235199\ttotal: 596ms\tremaining: 803ms\n",
      "213:\tlearn: 0.4225311\ttotal: 598ms\tremaining: 799ms\n",
      "214:\tlearn: 0.4213468\ttotal: 601ms\tremaining: 796ms\n",
      "215:\tlearn: 0.4205976\ttotal: 603ms\tremaining: 793ms\n",
      "216:\tlearn: 0.4199612\ttotal: 605ms\tremaining: 789ms\n",
      "217:\tlearn: 0.4192889\ttotal: 608ms\tremaining: 787ms\n",
      "218:\tlearn: 0.4189253\ttotal: 613ms\tremaining: 786ms\n",
      "219:\tlearn: 0.4181229\ttotal: 615ms\tremaining: 783ms\n",
      "220:\tlearn: 0.4172023\ttotal: 617ms\tremaining: 779ms\n",
      "221:\tlearn: 0.4164211\ttotal: 620ms\tremaining: 776ms\n",
      "222:\tlearn: 0.4152891\ttotal: 622ms\tremaining: 773ms\n",
      "223:\tlearn: 0.4143439\ttotal: 625ms\tremaining: 771ms\n",
      "224:\tlearn: 0.4135678\ttotal: 629ms\tremaining: 769ms\n",
      "225:\tlearn: 0.4132041\ttotal: 633ms\tremaining: 767ms\n",
      "226:\tlearn: 0.4126419\ttotal: 635ms\tremaining: 764ms\n",
      "227:\tlearn: 0.4112659\ttotal: 638ms\tremaining: 762ms\n",
      "228:\tlearn: 0.4106068\ttotal: 643ms\tremaining: 761ms\n",
      "229:\tlearn: 0.4099950\ttotal: 646ms\tremaining: 758ms\n",
      "230:\tlearn: 0.4094764\ttotal: 648ms\tremaining: 754ms\n"
     ]
    },
    {
     "name": "stdout",
     "output_type": "stream",
     "text": [
      "231:\tlearn: 0.4089924\ttotal: 651ms\tremaining: 752ms\n",
      "232:\tlearn: 0.4086012\ttotal: 653ms\tremaining: 749ms\n",
      "233:\tlearn: 0.4078619\ttotal: 657ms\tremaining: 747ms\n",
      "234:\tlearn: 0.4072345\ttotal: 660ms\tremaining: 744ms\n",
      "235:\tlearn: 0.4065047\ttotal: 663ms\tremaining: 741ms\n",
      "236:\tlearn: 0.4060488\ttotal: 668ms\tremaining: 741ms\n",
      "237:\tlearn: 0.4054226\ttotal: 672ms\tremaining: 740ms\n",
      "238:\tlearn: 0.4048490\ttotal: 675ms\tremaining: 737ms\n",
      "239:\tlearn: 0.4042892\ttotal: 679ms\tremaining: 736ms\n",
      "240:\tlearn: 0.4037235\ttotal: 683ms\tremaining: 734ms\n",
      "241:\tlearn: 0.4030527\ttotal: 685ms\tremaining: 730ms\n",
      "242:\tlearn: 0.4023049\ttotal: 688ms\tremaining: 727ms\n",
      "243:\tlearn: 0.4012956\ttotal: 691ms\tremaining: 725ms\n",
      "244:\tlearn: 0.4008008\ttotal: 694ms\tremaining: 722ms\n",
      "245:\tlearn: 0.4002543\ttotal: 697ms\tremaining: 720ms\n",
      "246:\tlearn: 0.3991398\ttotal: 700ms\tremaining: 717ms\n",
      "247:\tlearn: 0.3982013\ttotal: 703ms\tremaining: 714ms\n",
      "248:\tlearn: 0.3975876\ttotal: 706ms\tremaining: 712ms\n",
      "249:\tlearn: 0.3971439\ttotal: 709ms\tremaining: 709ms\n",
      "250:\tlearn: 0.3962193\ttotal: 711ms\tremaining: 705ms\n",
      "251:\tlearn: 0.3955434\ttotal: 714ms\tremaining: 703ms\n",
      "252:\tlearn: 0.3949332\ttotal: 718ms\tremaining: 701ms\n",
      "253:\tlearn: 0.3941099\ttotal: 722ms\tremaining: 700ms\n",
      "254:\tlearn: 0.3931954\ttotal: 725ms\tremaining: 697ms\n",
      "255:\tlearn: 0.3925048\ttotal: 728ms\tremaining: 693ms\n",
      "256:\tlearn: 0.3920039\ttotal: 730ms\tremaining: 690ms\n",
      "257:\tlearn: 0.3912704\ttotal: 733ms\tremaining: 687ms\n",
      "258:\tlearn: 0.3905986\ttotal: 735ms\tremaining: 684ms\n",
      "259:\tlearn: 0.3898226\ttotal: 738ms\tremaining: 681ms\n",
      "260:\tlearn: 0.3895033\ttotal: 741ms\tremaining: 679ms\n",
      "261:\tlearn: 0.3891117\ttotal: 745ms\tremaining: 676ms\n",
      "262:\tlearn: 0.3886791\ttotal: 747ms\tremaining: 673ms\n",
      "263:\tlearn: 0.3877091\ttotal: 750ms\tremaining: 670ms\n",
      "264:\tlearn: 0.3864884\ttotal: 752ms\tremaining: 667ms\n",
      "265:\tlearn: 0.3858651\ttotal: 755ms\tremaining: 664ms\n",
      "266:\tlearn: 0.3856452\ttotal: 758ms\tremaining: 661ms\n",
      "267:\tlearn: 0.3846235\ttotal: 760ms\tremaining: 658ms\n",
      "268:\tlearn: 0.3835319\ttotal: 762ms\tremaining: 655ms\n",
      "269:\tlearn: 0.3830692\ttotal: 765ms\tremaining: 651ms\n",
      "270:\tlearn: 0.3825651\ttotal: 767ms\tremaining: 648ms\n",
      "271:\tlearn: 0.3822185\ttotal: 770ms\tremaining: 645ms\n",
      "272:\tlearn: 0.3816548\ttotal: 772ms\tremaining: 642ms\n",
      "273:\tlearn: 0.3812902\ttotal: 775ms\tremaining: 639ms\n",
      "274:\tlearn: 0.3807971\ttotal: 778ms\tremaining: 636ms\n",
      "275:\tlearn: 0.3801079\ttotal: 780ms\tremaining: 633ms\n",
      "276:\tlearn: 0.3797225\ttotal: 783ms\tremaining: 631ms\n",
      "277:\tlearn: 0.3791769\ttotal: 786ms\tremaining: 628ms\n",
      "278:\tlearn: 0.3783688\ttotal: 790ms\tremaining: 626ms\n",
      "279:\tlearn: 0.3779409\ttotal: 792ms\tremaining: 623ms\n",
      "280:\tlearn: 0.3772102\ttotal: 795ms\tremaining: 619ms\n",
      "281:\tlearn: 0.3766200\ttotal: 797ms\tremaining: 616ms\n",
      "282:\tlearn: 0.3761965\ttotal: 800ms\tremaining: 613ms\n",
      "283:\tlearn: 0.3755072\ttotal: 802ms\tremaining: 610ms\n",
      "284:\tlearn: 0.3748797\ttotal: 805ms\tremaining: 607ms\n",
      "285:\tlearn: 0.3737787\ttotal: 807ms\tremaining: 604ms\n",
      "286:\tlearn: 0.3728798\ttotal: 810ms\tremaining: 601ms\n",
      "287:\tlearn: 0.3720161\ttotal: 813ms\tremaining: 598ms\n",
      "288:\tlearn: 0.3714656\ttotal: 815ms\tremaining: 595ms\n",
      "289:\tlearn: 0.3709343\ttotal: 818ms\tremaining: 592ms\n",
      "290:\tlearn: 0.3704557\ttotal: 820ms\tremaining: 589ms\n",
      "291:\tlearn: 0.3693740\ttotal: 822ms\tremaining: 586ms\n",
      "292:\tlearn: 0.3688999\ttotal: 826ms\tremaining: 583ms\n",
      "293:\tlearn: 0.3683920\ttotal: 828ms\tremaining: 580ms\n",
      "294:\tlearn: 0.3680162\ttotal: 831ms\tremaining: 577ms\n",
      "295:\tlearn: 0.3671999\ttotal: 833ms\tremaining: 574ms\n",
      "296:\tlearn: 0.3667675\ttotal: 835ms\tremaining: 571ms\n",
      "297:\tlearn: 0.3660143\ttotal: 838ms\tremaining: 568ms\n",
      "298:\tlearn: 0.3650381\ttotal: 840ms\tremaining: 565ms\n",
      "299:\tlearn: 0.3642369\ttotal: 843ms\tremaining: 562ms\n",
      "300:\tlearn: 0.3634617\ttotal: 845ms\tremaining: 559ms\n",
      "301:\tlearn: 0.3631630\ttotal: 848ms\tremaining: 556ms\n",
      "302:\tlearn: 0.3627324\ttotal: 850ms\tremaining: 553ms\n",
      "303:\tlearn: 0.3624060\ttotal: 853ms\tremaining: 550ms\n",
      "304:\tlearn: 0.3618582\ttotal: 855ms\tremaining: 547ms\n",
      "305:\tlearn: 0.3614341\ttotal: 858ms\tremaining: 544ms\n",
      "306:\tlearn: 0.3608380\ttotal: 861ms\tremaining: 541ms\n",
      "307:\tlearn: 0.3601103\ttotal: 864ms\tremaining: 539ms\n",
      "308:\tlearn: 0.3596637\ttotal: 867ms\tremaining: 536ms\n",
      "309:\tlearn: 0.3593518\ttotal: 869ms\tremaining: 533ms\n",
      "310:\tlearn: 0.3587475\ttotal: 872ms\tremaining: 530ms\n",
      "311:\tlearn: 0.3578965\ttotal: 874ms\tremaining: 527ms\n",
      "312:\tlearn: 0.3571204\ttotal: 877ms\tremaining: 524ms\n",
      "313:\tlearn: 0.3565393\ttotal: 879ms\tremaining: 521ms\n",
      "314:\tlearn: 0.3559926\ttotal: 882ms\tremaining: 518ms\n",
      "315:\tlearn: 0.3553613\ttotal: 884ms\tremaining: 515ms\n",
      "316:\tlearn: 0.3545131\ttotal: 887ms\tremaining: 512ms\n",
      "317:\tlearn: 0.3539019\ttotal: 889ms\tremaining: 509ms\n",
      "318:\tlearn: 0.3533650\ttotal: 892ms\tremaining: 506ms\n",
      "319:\tlearn: 0.3524748\ttotal: 894ms\tremaining: 503ms\n",
      "320:\tlearn: 0.3521900\ttotal: 896ms\tremaining: 500ms\n",
      "321:\tlearn: 0.3517213\ttotal: 899ms\tremaining: 497ms\n",
      "322:\tlearn: 0.3511941\ttotal: 901ms\tremaining: 494ms\n",
      "323:\tlearn: 0.3507893\ttotal: 904ms\tremaining: 491ms\n",
      "324:\tlearn: 0.3500783\ttotal: 906ms\tremaining: 488ms\n",
      "325:\tlearn: 0.3496876\ttotal: 908ms\tremaining: 485ms\n",
      "326:\tlearn: 0.3488073\ttotal: 911ms\tremaining: 482ms\n",
      "327:\tlearn: 0.3482600\ttotal: 914ms\tremaining: 479ms\n",
      "328:\tlearn: 0.3477323\ttotal: 916ms\tremaining: 476ms\n",
      "329:\tlearn: 0.3469776\ttotal: 918ms\tremaining: 473ms\n",
      "330:\tlearn: 0.3466749\ttotal: 921ms\tremaining: 470ms\n",
      "331:\tlearn: 0.3461169\ttotal: 924ms\tremaining: 467ms\n",
      "332:\tlearn: 0.3453902\ttotal: 926ms\tremaining: 464ms\n",
      "333:\tlearn: 0.3446591\ttotal: 929ms\tremaining: 462ms\n",
      "334:\tlearn: 0.3444156\ttotal: 931ms\tremaining: 459ms\n",
      "335:\tlearn: 0.3436895\ttotal: 933ms\tremaining: 456ms\n",
      "336:\tlearn: 0.3430184\ttotal: 936ms\tremaining: 453ms\n",
      "337:\tlearn: 0.3420260\ttotal: 938ms\tremaining: 450ms\n",
      "338:\tlearn: 0.3411534\ttotal: 941ms\tremaining: 447ms\n",
      "339:\tlearn: 0.3407369\ttotal: 943ms\tremaining: 444ms\n",
      "340:\tlearn: 0.3403137\ttotal: 946ms\tremaining: 441ms\n",
      "341:\tlearn: 0.3397241\ttotal: 948ms\tremaining: 438ms\n",
      "342:\tlearn: 0.3390289\ttotal: 950ms\tremaining: 435ms\n",
      "343:\tlearn: 0.3385341\ttotal: 953ms\tremaining: 432ms\n",
      "344:\tlearn: 0.3382024\ttotal: 955ms\tremaining: 429ms\n",
      "345:\tlearn: 0.3377777\ttotal: 957ms\tremaining: 426ms\n",
      "346:\tlearn: 0.3372212\ttotal: 960ms\tremaining: 423ms\n",
      "347:\tlearn: 0.3366468\ttotal: 963ms\tremaining: 420ms\n",
      "348:\tlearn: 0.3360603\ttotal: 965ms\tremaining: 418ms\n",
      "349:\tlearn: 0.3355585\ttotal: 968ms\tremaining: 415ms\n",
      "350:\tlearn: 0.3348066\ttotal: 971ms\tremaining: 412ms\n",
      "351:\tlearn: 0.3344212\ttotal: 974ms\tremaining: 410ms\n",
      "352:\tlearn: 0.3340103\ttotal: 977ms\tremaining: 407ms\n",
      "353:\tlearn: 0.3335793\ttotal: 979ms\tremaining: 404ms\n",
      "354:\tlearn: 0.3332298\ttotal: 982ms\tremaining: 401ms\n",
      "355:\tlearn: 0.3327321\ttotal: 985ms\tremaining: 398ms\n",
      "356:\tlearn: 0.3319250\ttotal: 988ms\tremaining: 396ms\n",
      "357:\tlearn: 0.3317382\ttotal: 991ms\tremaining: 393ms\n",
      "358:\tlearn: 0.3308824\ttotal: 994ms\tremaining: 390ms\n",
      "359:\tlearn: 0.3305480\ttotal: 996ms\tremaining: 387ms\n",
      "360:\tlearn: 0.3299009\ttotal: 998ms\tremaining: 384ms\n",
      "361:\tlearn: 0.3292732\ttotal: 1s\tremaining: 382ms\n",
      "362:\tlearn: 0.3281863\ttotal: 1s\tremaining: 379ms\n",
      "363:\tlearn: 0.3274692\ttotal: 1.01s\tremaining: 376ms\n",
      "364:\tlearn: 0.3269610\ttotal: 1.01s\tremaining: 373ms\n",
      "365:\tlearn: 0.3264221\ttotal: 1.01s\tremaining: 371ms\n",
      "366:\tlearn: 0.3261088\ttotal: 1.01s\tremaining: 368ms\n",
      "367:\tlearn: 0.3256411\ttotal: 1.02s\tremaining: 365ms\n",
      "368:\tlearn: 0.3249235\ttotal: 1.02s\tremaining: 362ms\n",
      "369:\tlearn: 0.3244007\ttotal: 1.02s\tremaining: 359ms\n",
      "370:\tlearn: 0.3237176\ttotal: 1.02s\tremaining: 356ms\n",
      "371:\tlearn: 0.3230346\ttotal: 1.03s\tremaining: 354ms\n",
      "372:\tlearn: 0.3225929\ttotal: 1.03s\tremaining: 351ms\n",
      "373:\tlearn: 0.3220531\ttotal: 1.03s\tremaining: 348ms\n",
      "374:\tlearn: 0.3213663\ttotal: 1.03s\tremaining: 345ms\n",
      "375:\tlearn: 0.3209487\ttotal: 1.04s\tremaining: 343ms\n",
      "376:\tlearn: 0.3204842\ttotal: 1.04s\tremaining: 340ms\n",
      "377:\tlearn: 0.3201263\ttotal: 1.05s\tremaining: 338ms\n",
      "378:\tlearn: 0.3196451\ttotal: 1.05s\tremaining: 335ms\n",
      "379:\tlearn: 0.3191173\ttotal: 1.05s\tremaining: 332ms\n",
      "380:\tlearn: 0.3181626\ttotal: 1.05s\tremaining: 330ms\n",
      "381:\tlearn: 0.3177139\ttotal: 1.06s\tremaining: 327ms\n",
      "382:\tlearn: 0.3171526\ttotal: 1.06s\tremaining: 325ms\n",
      "383:\tlearn: 0.3167816\ttotal: 1.07s\tremaining: 322ms\n",
      "384:\tlearn: 0.3164689\ttotal: 1.07s\tremaining: 320ms\n",
      "385:\tlearn: 0.3160605\ttotal: 1.07s\tremaining: 317ms\n",
      "386:\tlearn: 0.3156712\ttotal: 1.08s\tremaining: 314ms\n",
      "387:\tlearn: 0.3153213\ttotal: 1.08s\tremaining: 312ms\n",
      "388:\tlearn: 0.3145910\ttotal: 1.08s\tremaining: 309ms\n",
      "389:\tlearn: 0.3137886\ttotal: 1.09s\tremaining: 307ms\n",
      "390:\tlearn: 0.3132197\ttotal: 1.1s\tremaining: 306ms\n",
      "391:\tlearn: 0.3130476\ttotal: 1.1s\tremaining: 303ms\n",
      "392:\tlearn: 0.3119643\ttotal: 1.1s\tremaining: 301ms\n",
      "393:\tlearn: 0.3111591\ttotal: 1.11s\tremaining: 298ms\n",
      "394:\tlearn: 0.3105843\ttotal: 1.11s\tremaining: 295ms\n",
      "395:\tlearn: 0.3100247\ttotal: 1.11s\tremaining: 292ms\n",
      "396:\tlearn: 0.3097025\ttotal: 1.11s\tremaining: 289ms\n",
      "397:\tlearn: 0.3092552\ttotal: 1.12s\tremaining: 286ms\n",
      "398:\tlearn: 0.3083599\ttotal: 1.12s\tremaining: 284ms\n",
      "399:\tlearn: 0.3080379\ttotal: 1.12s\tremaining: 281ms\n",
      "400:\tlearn: 0.3077448\ttotal: 1.13s\tremaining: 278ms\n",
      "401:\tlearn: 0.3075234\ttotal: 1.13s\tremaining: 275ms\n",
      "402:\tlearn: 0.3069130\ttotal: 1.13s\tremaining: 272ms\n",
      "403:\tlearn: 0.3065343\ttotal: 1.13s\tremaining: 269ms\n",
      "404:\tlearn: 0.3061734\ttotal: 1.14s\tremaining: 267ms\n",
      "405:\tlearn: 0.3057651\ttotal: 1.14s\tremaining: 264ms\n",
      "406:\tlearn: 0.3056140\ttotal: 1.14s\tremaining: 261ms\n",
      "407:\tlearn: 0.3051426\ttotal: 1.14s\tremaining: 258ms\n",
      "408:\tlearn: 0.3043106\ttotal: 1.15s\tremaining: 255ms\n",
      "409:\tlearn: 0.3036957\ttotal: 1.15s\tremaining: 252ms\n",
      "410:\tlearn: 0.3030698\ttotal: 1.15s\tremaining: 249ms\n",
      "411:\tlearn: 0.3027901\ttotal: 1.15s\tremaining: 247ms\n",
      "412:\tlearn: 0.3026109\ttotal: 1.16s\tremaining: 244ms\n",
      "413:\tlearn: 0.3023231\ttotal: 1.16s\tremaining: 241ms\n",
      "414:\tlearn: 0.3018446\ttotal: 1.16s\tremaining: 238ms\n",
      "415:\tlearn: 0.3013947\ttotal: 1.16s\tremaining: 235ms\n",
      "416:\tlearn: 0.3011421\ttotal: 1.17s\tremaining: 232ms\n",
      "417:\tlearn: 0.3008561\ttotal: 1.17s\tremaining: 229ms\n",
      "418:\tlearn: 0.3003194\ttotal: 1.17s\tremaining: 226ms\n",
      "419:\tlearn: 0.2999614\ttotal: 1.17s\tremaining: 224ms\n",
      "420:\tlearn: 0.2995876\ttotal: 1.18s\tremaining: 221ms\n",
      "421:\tlearn: 0.2990483\ttotal: 1.18s\tremaining: 218ms\n",
      "422:\tlearn: 0.2985034\ttotal: 1.18s\tremaining: 215ms\n",
      "423:\tlearn: 0.2983066\ttotal: 1.18s\tremaining: 212ms\n",
      "424:\tlearn: 0.2979174\ttotal: 1.19s\tremaining: 209ms\n",
      "425:\tlearn: 0.2973797\ttotal: 1.19s\tremaining: 207ms\n",
      "426:\tlearn: 0.2968317\ttotal: 1.19s\tremaining: 204ms\n",
      "427:\tlearn: 0.2965849\ttotal: 1.19s\tremaining: 201ms\n",
      "428:\tlearn: 0.2959820\ttotal: 1.2s\tremaining: 198ms\n",
      "429:\tlearn: 0.2951177\ttotal: 1.2s\tremaining: 195ms\n",
      "430:\tlearn: 0.2946256\ttotal: 1.2s\tremaining: 192ms\n",
      "431:\tlearn: 0.2941075\ttotal: 1.2s\tremaining: 190ms\n",
      "432:\tlearn: 0.2935116\ttotal: 1.21s\tremaining: 187ms\n",
      "433:\tlearn: 0.2932733\ttotal: 1.21s\tremaining: 184ms\n",
      "434:\tlearn: 0.2927547\ttotal: 1.21s\tremaining: 181ms\n",
      "435:\tlearn: 0.2924996\ttotal: 1.21s\tremaining: 178ms\n",
      "436:\tlearn: 0.2917166\ttotal: 1.22s\tremaining: 176ms\n",
      "437:\tlearn: 0.2910992\ttotal: 1.22s\tremaining: 173ms\n",
      "438:\tlearn: 0.2908798\ttotal: 1.22s\tremaining: 170ms\n",
      "439:\tlearn: 0.2904162\ttotal: 1.23s\tremaining: 167ms\n",
      "440:\tlearn: 0.2899252\ttotal: 1.23s\tremaining: 164ms\n"
     ]
    },
    {
     "name": "stdout",
     "output_type": "stream",
     "text": [
      "441:\tlearn: 0.2895827\ttotal: 1.23s\tremaining: 162ms\n",
      "442:\tlearn: 0.2888066\ttotal: 1.23s\tremaining: 159ms\n",
      "443:\tlearn: 0.2884681\ttotal: 1.24s\tremaining: 156ms\n",
      "444:\tlearn: 0.2878212\ttotal: 1.24s\tremaining: 153ms\n",
      "445:\tlearn: 0.2874414\ttotal: 1.24s\tremaining: 151ms\n",
      "446:\tlearn: 0.2873105\ttotal: 1.25s\tremaining: 148ms\n",
      "447:\tlearn: 0.2870677\ttotal: 1.25s\tremaining: 145ms\n",
      "448:\tlearn: 0.2866941\ttotal: 1.25s\tremaining: 142ms\n",
      "449:\tlearn: 0.2861360\ttotal: 1.25s\tremaining: 139ms\n",
      "450:\tlearn: 0.2859685\ttotal: 1.26s\tremaining: 137ms\n",
      "451:\tlearn: 0.2857391\ttotal: 1.26s\tremaining: 134ms\n",
      "452:\tlearn: 0.2852460\ttotal: 1.26s\tremaining: 131ms\n",
      "453:\tlearn: 0.2843797\ttotal: 1.26s\tremaining: 128ms\n",
      "454:\tlearn: 0.2836973\ttotal: 1.27s\tremaining: 125ms\n",
      "455:\tlearn: 0.2834213\ttotal: 1.27s\tremaining: 123ms\n",
      "456:\tlearn: 0.2831878\ttotal: 1.27s\tremaining: 120ms\n",
      "457:\tlearn: 0.2829631\ttotal: 1.28s\tremaining: 117ms\n",
      "458:\tlearn: 0.2824924\ttotal: 1.28s\tremaining: 114ms\n",
      "459:\tlearn: 0.2820868\ttotal: 1.28s\tremaining: 111ms\n",
      "460:\tlearn: 0.2815340\ttotal: 1.28s\tremaining: 109ms\n",
      "461:\tlearn: 0.2810217\ttotal: 1.29s\tremaining: 106ms\n",
      "462:\tlearn: 0.2804338\ttotal: 1.29s\tremaining: 103ms\n",
      "463:\tlearn: 0.2801529\ttotal: 1.29s\tremaining: 100ms\n",
      "464:\tlearn: 0.2797031\ttotal: 1.29s\tremaining: 97.4ms\n",
      "465:\tlearn: 0.2794150\ttotal: 1.3s\tremaining: 94.6ms\n",
      "466:\tlearn: 0.2790601\ttotal: 1.3s\tremaining: 91.8ms\n",
      "467:\tlearn: 0.2786076\ttotal: 1.3s\tremaining: 89ms\n",
      "468:\tlearn: 0.2782853\ttotal: 1.3s\tremaining: 86.2ms\n",
      "469:\tlearn: 0.2778575\ttotal: 1.31s\tremaining: 83.4ms\n",
      "470:\tlearn: 0.2776445\ttotal: 1.31s\tremaining: 80.6ms\n",
      "471:\tlearn: 0.2771802\ttotal: 1.31s\tremaining: 77.8ms\n",
      "472:\tlearn: 0.2765785\ttotal: 1.31s\tremaining: 75ms\n",
      "473:\tlearn: 0.2760339\ttotal: 1.32s\tremaining: 72.2ms\n",
      "474:\tlearn: 0.2756951\ttotal: 1.32s\tremaining: 69.5ms\n",
      "475:\tlearn: 0.2755776\ttotal: 1.32s\tremaining: 66.7ms\n",
      "476:\tlearn: 0.2753657\ttotal: 1.32s\tremaining: 63.9ms\n",
      "477:\tlearn: 0.2751435\ttotal: 1.33s\tremaining: 61.1ms\n",
      "478:\tlearn: 0.2743885\ttotal: 1.33s\tremaining: 58.3ms\n",
      "479:\tlearn: 0.2739420\ttotal: 1.33s\tremaining: 55.6ms\n",
      "480:\tlearn: 0.2735393\ttotal: 1.34s\tremaining: 52.8ms\n",
      "481:\tlearn: 0.2732418\ttotal: 1.34s\tremaining: 50ms\n",
      "482:\tlearn: 0.2727642\ttotal: 1.34s\tremaining: 47.2ms\n",
      "483:\tlearn: 0.2724445\ttotal: 1.34s\tremaining: 44.4ms\n",
      "484:\tlearn: 0.2721458\ttotal: 1.35s\tremaining: 41.7ms\n",
      "485:\tlearn: 0.2718388\ttotal: 1.35s\tremaining: 38.9ms\n",
      "486:\tlearn: 0.2714735\ttotal: 1.35s\tremaining: 36.1ms\n",
      "487:\tlearn: 0.2712480\ttotal: 1.35s\tremaining: 33.3ms\n",
      "488:\tlearn: 0.2709729\ttotal: 1.36s\tremaining: 30.5ms\n",
      "489:\tlearn: 0.2705012\ttotal: 1.36s\tremaining: 27.8ms\n",
      "490:\tlearn: 0.2700837\ttotal: 1.36s\tremaining: 25ms\n",
      "491:\tlearn: 0.2699119\ttotal: 1.36s\tremaining: 22.2ms\n",
      "492:\tlearn: 0.2694626\ttotal: 1.37s\tremaining: 19.4ms\n",
      "493:\tlearn: 0.2692663\ttotal: 1.37s\tremaining: 16.7ms\n",
      "494:\tlearn: 0.2691092\ttotal: 1.37s\tremaining: 13.9ms\n",
      "495:\tlearn: 0.2683545\ttotal: 1.38s\tremaining: 11.1ms\n",
      "496:\tlearn: 0.2680732\ttotal: 1.38s\tremaining: 8.32ms\n",
      "497:\tlearn: 0.2675374\ttotal: 1.38s\tremaining: 5.54ms\n",
      "498:\tlearn: 0.2671387\ttotal: 1.38s\tremaining: 2.77ms\n",
      "499:\tlearn: 0.2668102\ttotal: 1.39s\tremaining: 0us\n"
     ]
    }
   ],
   "source": [
    "model_cat = CatBoostClassifier(random_state=1, subsample= 0.75, scale_pos_weight= 1.589, reg_lambda= 0, random_strength= 1.5, n_estimators= 500, max_depth= 8, learning_rate= 0.01).fit(X_train, y_train)"
   ]
  },
  {
   "cell_type": "code",
   "execution_count": 32,
   "metadata": {
    "colab": {
     "base_uri": "https://localhost:8080/",
     "height": 332
    },
    "id": "10_33oQuN-qA",
    "outputId": "3dc3e68d-212b-4bbc-931f-b824fc146106"
   },
   "outputs": [
    {
     "ename": "AttributeError",
     "evalue": "'numpy.ndarray' object has no attribute 'columns'",
     "output_type": "error",
     "traceback": [
      "\u001b[0;31m---------------------------------------------------------------------------\u001b[0m",
      "\u001b[0;31mAttributeError\u001b[0m                            Traceback (most recent call last)",
      "Input \u001b[0;32mIn [32]\u001b[0m, in \u001b[0;36m<cell line: 1>\u001b[0;34m()\u001b[0m\n\u001b[0;32m----> 1\u001b[0m Cat_featImp \u001b[38;5;241m=\u001b[39m pd\u001b[38;5;241m.\u001b[39mconcat([pd\u001b[38;5;241m.\u001b[39mSeries(\u001b[43mX_train\u001b[49m\u001b[38;5;241;43m.\u001b[39;49m\u001b[43mcolumns\u001b[49m),pd\u001b[38;5;241m.\u001b[39mSeries(model_cat\u001b[38;5;241m.\u001b[39mfeature_importances_)],axis\u001b[38;5;241m=\u001b[39m\u001b[38;5;241m1\u001b[39m)\u001b[38;5;241m.\u001b[39msort_values(by \u001b[38;5;241m=\u001b[39m \u001b[38;5;241m0\u001b[39m,ascending \u001b[38;5;241m=\u001b[39m \u001b[38;5;28;01mFalse\u001b[39;00m)\n\u001b[1;32m      2\u001b[0m Cat_featImp\n",
      "\u001b[0;31mAttributeError\u001b[0m: 'numpy.ndarray' object has no attribute 'columns'"
     ]
    }
   ],
   "source": [
    "Cat_featImp = pd.concat([pd.Series(X_train.columns),pd.Series(model_cat.feature_importances_)],axis=1).sort_values(by = 0,ascending = False)\n",
    "Cat_featImp"
   ]
  },
  {
   "cell_type": "code",
   "execution_count": 33,
   "metadata": {
    "id": "JutIpF-GSiYe"
   },
   "outputs": [
    {
     "ename": "NameError",
     "evalue": "name 'Cat_featImp' is not defined",
     "output_type": "error",
     "traceback": [
      "\u001b[0;31m---------------------------------------------------------------------------\u001b[0m",
      "\u001b[0;31mNameError\u001b[0m                                 Traceback (most recent call last)",
      "Input \u001b[0;32mIn [33]\u001b[0m, in \u001b[0;36m<cell line: 1>\u001b[0;34m()\u001b[0m\n\u001b[0;32m----> 1\u001b[0m Cat_featImp \u001b[38;5;241m=\u001b[39m \u001b[43mCat_featImp\u001b[49m\u001b[38;5;241m.\u001b[39msort_index()\n",
      "\u001b[0;31mNameError\u001b[0m: name 'Cat_featImp' is not defined"
     ]
    }
   ],
   "source": [
    "Cat_featImp = Cat_featImp.sort_index()"
   ]
  },
  {
   "cell_type": "markdown",
   "metadata": {
    "id": "qBzaCZ4vTJ2m"
   },
   "source": [
    "### feature importance"
   ]
  },
  {
   "cell_type": "code",
   "execution_count": 34,
   "metadata": {
    "colab": {
     "base_uri": "https://localhost:8080/",
     "height": 332
    },
    "id": "MGpUNgW3TJID",
    "outputId": "1cf2ce36-9710-4b2e-d164-966a3452afba"
   },
   "outputs": [
    {
     "ename": "NameError",
     "evalue": "name 'Ada_featImp' is not defined",
     "output_type": "error",
     "traceback": [
      "\u001b[0;31m---------------------------------------------------------------------------\u001b[0m",
      "\u001b[0;31mNameError\u001b[0m                                 Traceback (most recent call last)",
      "Input \u001b[0;32mIn [34]\u001b[0m, in \u001b[0;36m<cell line: 1>\u001b[0;34m()\u001b[0m\n\u001b[0;32m----> 1\u001b[0m featImp \u001b[38;5;241m=\u001b[39m pd\u001b[38;5;241m.\u001b[39mconcat([\u001b[43mAda_featImp\u001b[49m,RF_featImp\u001b[38;5;241m.\u001b[39miloc[:,\u001b[38;5;241m1\u001b[39m],XGB_featImp\u001b[38;5;241m.\u001b[39miloc[:,\u001b[38;5;241m1\u001b[39m],\n\u001b[1;32m      2\u001b[0m                      GB_featImp\u001b[38;5;241m.\u001b[39miloc[:,\u001b[38;5;241m1\u001b[39m]],axis\u001b[38;5;241m=\u001b[39m\u001b[38;5;241m1\u001b[39m)\u001b[38;5;241m.\u001b[39msort_values(by \u001b[38;5;241m=\u001b[39m \u001b[38;5;241m0\u001b[39m,ascending \u001b[38;5;241m=\u001b[39m \u001b[38;5;28;01mFalse\u001b[39;00m)\n",
      "\u001b[0;31mNameError\u001b[0m: name 'Ada_featImp' is not defined"
     ]
    }
   ],
   "source": [
    "featImp = pd.concat([Ada_featImp,RF_featImp.iloc[:,1],XGB_featImp.iloc[:,1],\n",
    "                     GB_featImp.iloc[:,1]],axis=1).sort_values(by = 0,ascending = False)"
   ]
  },
  {
   "cell_type": "code",
   "execution_count": 108,
   "metadata": {
    "id": "KOYHu_vhXA8S"
   },
   "outputs": [],
   "source": [
    "featImp['sums'] = featImp.iloc[:,1:5].sum(axis=1)"
   ]
  },
  {
   "cell_type": "code",
   "execution_count": 113,
   "metadata": {
    "colab": {
     "base_uri": "https://localhost:8080/",
     "height": 332
    },
    "id": "pw8H73e4XBCz",
    "outputId": "56af14e5-632c-4a17-c73b-480603e5f511"
   },
   "outputs": [
    {
     "data": {
      "text/html": [
       "\n",
       "  <div id=\"df-04800436-ffc9-4721-ad62-fd0040d3093d\">\n",
       "    <div class=\"colab-df-container\">\n",
       "      <div>\n",
       "<style scoped>\n",
       "    .dataframe tbody tr th:only-of-type {\n",
       "        vertical-align: middle;\n",
       "    }\n",
       "\n",
       "    .dataframe tbody tr th {\n",
       "        vertical-align: top;\n",
       "    }\n",
       "\n",
       "    .dataframe thead th {\n",
       "        text-align: right;\n",
       "    }\n",
       "</style>\n",
       "<table border=\"1\" class=\"dataframe\">\n",
       "  <thead>\n",
       "    <tr style=\"text-align: right;\">\n",
       "      <th></th>\n",
       "      <th>0</th>\n",
       "      <th>1</th>\n",
       "      <th>1</th>\n",
       "      <th>1</th>\n",
       "      <th>1</th>\n",
       "      <th>sum</th>\n",
       "      <th>sums</th>\n",
       "    </tr>\n",
       "  </thead>\n",
       "  <tbody>\n",
       "    <tr>\n",
       "      <th>4</th>\n",
       "      <td>Sulfate</td>\n",
       "      <td>0.109337</td>\n",
       "      <td>0.218778</td>\n",
       "      <td>0.136442</td>\n",
       "      <td>0.195907</td>\n",
       "      <td>0.660464</td>\n",
       "      <td>0.002580</td>\n",
       "    </tr>\n",
       "    <tr>\n",
       "      <th>0</th>\n",
       "      <td>ph</td>\n",
       "      <td>0.106088</td>\n",
       "      <td>0.194881</td>\n",
       "      <td>0.129401</td>\n",
       "      <td>0.189469</td>\n",
       "      <td>0.619839</td>\n",
       "      <td>0.002421</td>\n",
       "    </tr>\n",
       "    <tr>\n",
       "      <th>1</th>\n",
       "      <td>Hardness</td>\n",
       "      <td>0.110139</td>\n",
       "      <td>0.143775</td>\n",
       "      <td>0.111634</td>\n",
       "      <td>0.132115</td>\n",
       "      <td>0.497663</td>\n",
       "      <td>0.001944</td>\n",
       "    </tr>\n",
       "    <tr>\n",
       "      <th>3</th>\n",
       "      <td>Chloramines</td>\n",
       "      <td>0.114144</td>\n",
       "      <td>0.120745</td>\n",
       "      <td>0.113265</td>\n",
       "      <td>0.121941</td>\n",
       "      <td>0.470095</td>\n",
       "      <td>0.001836</td>\n",
       "    </tr>\n",
       "    <tr>\n",
       "      <th>2</th>\n",
       "      <td>Solids</td>\n",
       "      <td>0.109008</td>\n",
       "      <td>0.106464</td>\n",
       "      <td>0.111813</td>\n",
       "      <td>0.104607</td>\n",
       "      <td>0.431893</td>\n",
       "      <td>0.001687</td>\n",
       "    </tr>\n",
       "    <tr>\n",
       "      <th>8</th>\n",
       "      <td>Turbidity</td>\n",
       "      <td>0.121327</td>\n",
       "      <td>0.055697</td>\n",
       "      <td>0.101166</td>\n",
       "      <td>0.062037</td>\n",
       "      <td>0.340227</td>\n",
       "      <td>0.001329</td>\n",
       "    </tr>\n",
       "    <tr>\n",
       "      <th>6</th>\n",
       "      <td>Organic_carbon</td>\n",
       "      <td>0.118188</td>\n",
       "      <td>0.054100</td>\n",
       "      <td>0.099743</td>\n",
       "      <td>0.060959</td>\n",
       "      <td>0.332991</td>\n",
       "      <td>0.001301</td>\n",
       "    </tr>\n",
       "    <tr>\n",
       "      <th>7</th>\n",
       "      <td>Trihalomethanes</td>\n",
       "      <td>0.110598</td>\n",
       "      <td>0.053557</td>\n",
       "      <td>0.097839</td>\n",
       "      <td>0.064297</td>\n",
       "      <td>0.326290</td>\n",
       "      <td>0.001275</td>\n",
       "    </tr>\n",
       "    <tr>\n",
       "      <th>5</th>\n",
       "      <td>Conductivity</td>\n",
       "      <td>0.101171</td>\n",
       "      <td>0.052004</td>\n",
       "      <td>0.098696</td>\n",
       "      <td>0.068667</td>\n",
       "      <td>0.320538</td>\n",
       "      <td>0.001252</td>\n",
       "    </tr>\n",
       "  </tbody>\n",
       "</table>\n",
       "</div>\n",
       "      <button class=\"colab-df-convert\" onclick=\"convertToInteractive('df-04800436-ffc9-4721-ad62-fd0040d3093d')\"\n",
       "              title=\"Convert this dataframe to an interactive table.\"\n",
       "              style=\"display:none;\">\n",
       "        \n",
       "  <svg xmlns=\"http://www.w3.org/2000/svg\" height=\"24px\"viewBox=\"0 0 24 24\"\n",
       "       width=\"24px\">\n",
       "    <path d=\"M0 0h24v24H0V0z\" fill=\"none\"/>\n",
       "    <path d=\"M18.56 5.44l.94 2.06.94-2.06 2.06-.94-2.06-.94-.94-2.06-.94 2.06-2.06.94zm-11 1L8.5 8.5l.94-2.06 2.06-.94-2.06-.94L8.5 2.5l-.94 2.06-2.06.94zm10 10l.94 2.06.94-2.06 2.06-.94-2.06-.94-.94-2.06-.94 2.06-2.06.94z\"/><path d=\"M17.41 7.96l-1.37-1.37c-.4-.4-.92-.59-1.43-.59-.52 0-1.04.2-1.43.59L10.3 9.45l-7.72 7.72c-.78.78-.78 2.05 0 2.83L4 21.41c.39.39.9.59 1.41.59.51 0 1.02-.2 1.41-.59l7.78-7.78 2.81-2.81c.8-.78.8-2.07 0-2.86zM5.41 20L4 18.59l7.72-7.72 1.47 1.35L5.41 20z\"/>\n",
       "  </svg>\n",
       "      </button>\n",
       "      \n",
       "  <style>\n",
       "    .colab-df-container {\n",
       "      display:flex;\n",
       "      flex-wrap:wrap;\n",
       "      gap: 12px;\n",
       "    }\n",
       "\n",
       "    .colab-df-convert {\n",
       "      background-color: #E8F0FE;\n",
       "      border: none;\n",
       "      border-radius: 50%;\n",
       "      cursor: pointer;\n",
       "      display: none;\n",
       "      fill: #1967D2;\n",
       "      height: 32px;\n",
       "      padding: 0 0 0 0;\n",
       "      width: 32px;\n",
       "    }\n",
       "\n",
       "    .colab-df-convert:hover {\n",
       "      background-color: #E2EBFA;\n",
       "      box-shadow: 0px 1px 2px rgba(60, 64, 67, 0.3), 0px 1px 3px 1px rgba(60, 64, 67, 0.15);\n",
       "      fill: #174EA6;\n",
       "    }\n",
       "\n",
       "    [theme=dark] .colab-df-convert {\n",
       "      background-color: #3B4455;\n",
       "      fill: #D2E3FC;\n",
       "    }\n",
       "\n",
       "    [theme=dark] .colab-df-convert:hover {\n",
       "      background-color: #434B5C;\n",
       "      box-shadow: 0px 1px 3px 1px rgba(0, 0, 0, 0.15);\n",
       "      filter: drop-shadow(0px 1px 2px rgba(0, 0, 0, 0.3));\n",
       "      fill: #FFFFFF;\n",
       "    }\n",
       "  </style>\n",
       "\n",
       "      <script>\n",
       "        const buttonEl =\n",
       "          document.querySelector('#df-04800436-ffc9-4721-ad62-fd0040d3093d button.colab-df-convert');\n",
       "        buttonEl.style.display =\n",
       "          google.colab.kernel.accessAllowed ? 'block' : 'none';\n",
       "\n",
       "        async function convertToInteractive(key) {\n",
       "          const element = document.querySelector('#df-04800436-ffc9-4721-ad62-fd0040d3093d');\n",
       "          const dataTable =\n",
       "            await google.colab.kernel.invokeFunction('convertToInteractive',\n",
       "                                                     [key], {});\n",
       "          if (!dataTable) return;\n",
       "\n",
       "          const docLinkHtml = 'Like what you see? Visit the ' +\n",
       "            '<a target=\"_blank\" href=https://colab.research.google.com/notebooks/data_table.ipynb>data table notebook</a>'\n",
       "            + ' to learn more about interactive tables.';\n",
       "          element.innerHTML = '';\n",
       "          dataTable['output_type'] = 'display_data';\n",
       "          await google.colab.output.renderOutput(dataTable, element);\n",
       "          const docLink = document.createElement('div');\n",
       "          docLink.innerHTML = docLinkHtml;\n",
       "          element.appendChild(docLink);\n",
       "        }\n",
       "      </script>\n",
       "    </div>\n",
       "  </div>\n",
       "  "
      ],
      "text/plain": [
       "                 0         1         1         1         1       sum      sums\n",
       "4          Sulfate  0.109337  0.218778  0.136442  0.195907  0.660464  0.002580\n",
       "0               ph  0.106088  0.194881  0.129401  0.189469  0.619839  0.002421\n",
       "1         Hardness  0.110139  0.143775  0.111634  0.132115  0.497663  0.001944\n",
       "3      Chloramines  0.114144  0.120745  0.113265  0.121941  0.470095  0.001836\n",
       "2           Solids  0.109008  0.106464  0.111813  0.104607  0.431893  0.001687\n",
       "8        Turbidity  0.121327  0.055697  0.101166  0.062037  0.340227  0.001329\n",
       "6   Organic_carbon  0.118188  0.054100  0.099743  0.060959  0.332991  0.001301\n",
       "7  Trihalomethanes  0.110598  0.053557  0.097839  0.064297  0.326290  0.001275\n",
       "5     Conductivity  0.101171  0.052004  0.098696  0.068667  0.320538  0.001252"
      ]
     },
     "execution_count": 113,
     "metadata": {},
     "output_type": "execute_result"
    }
   ],
   "source": [
    "featImp['sums'] = featImp.sums.div(4)\n",
    "featImp.sort_values(by = 'sum',ascending = False)"
   ]
  },
  {
   "cell_type": "markdown",
   "metadata": {
    "id": "cTtY2aOtr7Mn"
   },
   "source": [
    "### Ensemble"
   ]
  },
  {
   "cell_type": "code",
   "execution_count": 35,
   "metadata": {
    "colab": {
     "base_uri": "https://localhost:8080/",
     "height": 259
    },
    "id": "689RejBgr6ee",
    "outputId": "a7d37d11-5ec5-4a41-fbb3-a00d79d5fb3b"
   },
   "outputs": [
    {
     "ename": "NameError",
     "evalue": "name 'model_Ada' is not defined",
     "output_type": "error",
     "traceback": [
      "\u001b[0;31m---------------------------------------------------------------------------\u001b[0m",
      "\u001b[0;31mNameError\u001b[0m                                 Traceback (most recent call last)",
      "Input \u001b[0;32mIn [35]\u001b[0m, in \u001b[0;36m<cell line: 2>\u001b[0;34m()\u001b[0m\n\u001b[1;32m      1\u001b[0m \u001b[38;5;66;03m#Using random forests as the meta model (final_estimator). Note that random forest will require tuning\u001b[39;00m\n\u001b[0;32m----> 2\u001b[0m ensemble_model \u001b[38;5;241m=\u001b[39m StackingClassifier(estimators\u001b[38;5;241m=\u001b[39m[(\u001b[38;5;124m'\u001b[39m\u001b[38;5;124mada\u001b[39m\u001b[38;5;124m'\u001b[39m,\u001b[43mmodel_Ada\u001b[49m),(\u001b[38;5;124m'\u001b[39m\u001b[38;5;124mXGB\u001b[39m\u001b[38;5;124m'\u001b[39m,model_XGB),(\u001b[38;5;124m'\u001b[39m\u001b[38;5;124mGradBoost\u001b[39m\u001b[38;5;124m'\u001b[39m,model_GradBoost),(\u001b[38;5;124m'\u001b[39m\u001b[38;5;124mRF\u001b[39m\u001b[38;5;124m'\u001b[39m,model_randomForest), \n\u001b[1;32m      3\u001b[0m  (\u001b[38;5;124m'\u001b[39m\u001b[38;5;124mCat\u001b[39m\u001b[38;5;124m'\u001b[39m,model_cat),(\u001b[38;5;124m'\u001b[39m\u001b[38;5;124mBaggedTree\u001b[39m\u001b[38;5;124m'\u001b[39m,model_BaggedTree)],\n\u001b[1;32m      4\u001b[0m                                    final_estimator\u001b[38;5;241m=\u001b[39mRandomForestClassifier(n_estimators\u001b[38;5;241m=\u001b[39m\u001b[38;5;241m500\u001b[39m, max_features\u001b[38;5;241m=\u001b[39m\u001b[38;5;241m1\u001b[39m,\n\u001b[1;32m      5\u001b[0m                                                                           random_state\u001b[38;5;241m=\u001b[39m\u001b[38;5;241m1\u001b[39m,oob_score\u001b[38;5;241m=\u001b[39m\u001b[38;5;28;01mTrue\u001b[39;00m),n_jobs\u001b[38;5;241m=\u001b[39m\u001b[38;5;241m-\u001b[39m\u001b[38;5;241m1\u001b[39m,\n\u001b[1;32m      6\u001b[0m                                    cv \u001b[38;5;241m=\u001b[39m StratifiedKFold(n_splits\u001b[38;5;241m=\u001b[39m\u001b[38;5;241m5\u001b[39m,shuffle\u001b[38;5;241m=\u001b[39m\u001b[38;5;28;01mTrue\u001b[39;00m,random_state\u001b[38;5;241m=\u001b[39m\u001b[38;5;241m1\u001b[39m))\n\u001b[1;32m      7\u001b[0m ensemble_model\u001b[38;5;241m.\u001b[39mfit(X_train,y_train)\n",
      "\u001b[0;31mNameError\u001b[0m: name 'model_Ada' is not defined"
     ]
    }
   ],
   "source": [
    "#Using random forests as the meta model (final_estimator). Note that random forest will require tuning\n",
    "ensemble_model = StackingClassifier(estimators=[('ada',model_Ada),('XGB',model_XGB),('GradBoost',model_GradBoost),('RF',model_randomForest), \n",
    " ('Cat',model_cat),('BaggedTree',model_BaggedTree)],\n",
    "                                   final_estimator=RandomForestClassifier(n_estimators=500, max_features=1,\n",
    "                                                                          random_state=1,oob_score=True),n_jobs=-1,\n",
    "                                   cv = StratifiedKFold(n_splits=5,shuffle=True,random_state=1))\n",
    "ensemble_model.fit(X_train,y_train)\n"
   ]
  },
  {
   "cell_type": "code",
   "execution_count": null,
   "metadata": {
    "id": "xvlqe7Lzi5P-"
   },
   "outputs": [],
   "source": []
  },
  {
   "cell_type": "code",
   "execution_count": 52,
   "metadata": {
    "colab": {
     "base_uri": "https://localhost:8080/"
    },
    "id": "zyLu5V7AcFNi",
    "outputId": "8325ae5e-f7e7-439e-d3e1-46ebda165099"
   },
   "outputs": [
    {
     "name": "stdout",
     "output_type": "stream",
     "text": [
      "time taken =  4.189492066701253  minutes\n",
      "max accuracy =  0.65\n",
      "Best value of max_features=  1\n"
     ]
    }
   ],
   "source": [
    "#Tuning the random forest parameters\n",
    "start_time = time.time()\n",
    "oob_score = {}\n",
    "\n",
    "i=0\n",
    "for pr in range(1,5):\n",
    "    model = StackingClassifier(estimators=[('ada',model_Ada),('XGB',model_XGB),('GradBoost',model_GradBoost),('RF',model_randomForest), \n",
    " ('Cat',model_cat),('BaggedTree',model_BaggedTree)],\n",
    "                                   final_estimator=RandomForestClassifier(n_estimators=500, max_features=pr,\n",
    "                                    random_state=1,oob_score=True),n_jobs=-1,\n",
    "                                   cv = StratifiedKFold(n_splits=5,shuffle=True,random_state=1)).fit(X_train, y_train)\n",
    "    oob_score[pr] = model.final_estimator_.oob_score_\n",
    "    \n",
    "end_time = time.time()\n",
    "print(\"time taken = \", (end_time-start_time)/60, \" minutes\")\n",
    "print(\"max accuracy = \", np.max(list(oob_score.values())))\n",
    "print(\"Best value of max_features= \", np.argmax(list(oob_score.values()))+1)"
   ]
  },
  {
   "cell_type": "code",
   "execution_count": 53,
   "metadata": {
    "id": "xlsCe5FSdxAk"
   },
   "outputs": [],
   "source": [
    "model = StackingClassifier(estimators=[('ada',model_Ada),('XGB',model_XGB),('GradBoost',model_GradBoost),('RF',model_randomForest), \n",
    " ('Cat',model_cat),('BaggedTree',model_BaggedTree)],\n",
    "                                   final_estimator=RandomForestClassifier(n_estimators=500, max_features=1,\n",
    "                                    random_state=1,oob_score=True),n_jobs=-1,\n",
    "                                   cv = StratifiedKFold(n_splits=5,shuffle=True,random_state=1)).fit(X_train, y_train)"
   ]
  },
  {
   "cell_type": "code",
   "execution_count": 54,
   "metadata": {
    "colab": {
     "base_uri": "https://localhost:8080/",
     "height": 718
    },
    "id": "qiwvOKd2d5iu",
    "outputId": "1b18f2d0-c84a-4f44-8874-0d995ccf6cf1"
   },
   "outputs": [
    {
     "data": {
      "image/png": "[encoded data removed]",
      "text/plain": [
       "<Figure size 800x800 with 1 Axes>"
      ]
     },
     "metadata": {},
     "output_type": "display_data"
    }
   ],
   "source": [
    "# Note that we are using the cross-validated predicted probabilities, instead of directly using the \n",
    "# predicted probabilities on train data, as the model may be overfitting on the train data, and \n",
    "# may lead to misleading results\n",
    "cross_val_ypred = cross_val_predict(StackingClassifier(estimators=[('ada',model_Ada),('XGB',model_XGB),\n",
    " ('GradBoost',model_GradBoost),('RF',model_randomForest), \n",
    " ('Cat',model_cat),('BaggedTree',model_BaggedTree)],\n",
    " final_estimator=RandomForestClassifier(n_estimators=500, max_features=1,\n",
    "                                        random_state=1,oob_score=True),n_jobs=-1,\n",
    "                                        cv = StratifiedKFold(n_splits=5,shuffle=True,random_state=1)), X_train,y_train, cv = 5, method = 'predict_proba')\n",
    "\n",
    "p, r, thresholds = precision_recall_curve(y_train, cross_val_ypred[:,1])\n",
    "acc = np.ndarray(shape = (len(thresholds),))\n",
    "i = 0\n",
    "for th in thresholds:\n",
    "    y_pred = cross_val_ypred[:,1] > th\n",
    "    y_pred = y_pred.astype(int)\n",
    "    acc[i] = accuracy_score(y_pred, y_train)\n",
    "    i = i + 1\n",
    "def plot_precision_recall_vs_threshold(precisions, recalls, thresholds):\n",
    "    plt.figure(figsize=(8, 8))\n",
    "    plt.title(\"Precision and Recall Scores as a function of the decision threshold\")\n",
    "    plt.plot(thresholds, precisions[:-1], \"b--\", label=\"Precision\")\n",
    "    plt.plot(thresholds, recalls[:-1], \"g-\", label=\"Recall\")\n",
    "    plt.plot(thresholds, acc, \"r-\", label=\"Accuracy\")\n",
    "    plt.plot(thresholds, precisions[:-1], \"o\", color = 'blue')\n",
    "    plt.plot(thresholds, recalls[:-1], \"o\", color = 'green')\n",
    "    plt.plot(thresholds, acc, \"o\", color = 'red')\n",
    "    plt.ylabel(\"Score\")\n",
    "    plt.xlabel(\"Decision Threshold\")\n",
    "    plt.legend(loc='best')\n",
    "    plt.legend()\n",
    "plot_precision_recall_vs_threshold(p, r, thresholds)\n"
   ]
  },
  {
   "cell_type": "code",
   "execution_count": 55,
   "metadata": {
    "colab": {
     "base_uri": "https://localhost:8080/",
     "height": 664
    },
    "id": "eq-haKauiVXP",
    "outputId": "f94c3bc2-69df-49ec-ce70-30eb8e6880d2"
   },
   "outputs": [
    {
     "name": "stderr",
     "output_type": "stream",
     "text": [
      "/usr/local/lib/python3.10/dist-packages/sklearn/base.py:439: UserWarning: X does not have valid feature names, but AdaBoostClassifier was fitted with feature names\n",
      "  warnings.warn(\n",
      "/usr/local/lib/python3.10/dist-packages/sklearn/base.py:439: UserWarning: X does not have valid feature names, but GradientBoostingClassifier was fitted with feature names\n",
      "  warnings.warn(\n",
      "/usr/local/lib/python3.10/dist-packages/sklearn/base.py:439: UserWarning: X does not have valid feature names, but RandomForestClassifier was fitted with feature names\n",
      "  warnings.warn(\n",
      "/usr/local/lib/python3.10/dist-packages/sklearn/base.py:439: UserWarning: X does not have valid feature names, but BaggingClassifier was fitted with feature names\n",
      "  warnings.warn(\n"
     ]
    },
    {
     "name": "stdout",
     "output_type": "stream",
     "text": [
      "Accuracy:  66.3109756097561\n",
      "ROC-AUC:  0.6876748251748251\n",
      "Precision:  0.7241379310344828\n",
      "Recall:  0.2423076923076923\n"
     ]
    },
    {
     "data": {
      "image/png": "[encoded data removed]",
      "text/plain": [
       "<Figure size 640x480 with 2 Axes>"
      ]
     },
     "metadata": {},
     "output_type": "display_data"
    }
   ],
   "source": [
    "# Performance metrics computation for the optimum decision threshold probability\n",
    "desired_threshold = 0.58\n",
    "\n",
    "y_pred_prob = model.predict_proba(X_test)[:,1] \n",
    "\n",
    "# Classifying observations in the positive class (y = 1) if the predicted probability is greater\n",
    "# than the desired decision threshold probability\n",
    "y_pred = y_pred_prob > desired_threshold\n",
    "y_pred = y_pred.astype(int)\n",
    "\n",
    "#Computing the accuracy\n",
    "print(\"Accuracy: \",accuracy_score(y_pred, y_test)*100)  \n",
    "\n",
    "#Computing the ROC-AUC\n",
    "fpr, tpr, auc_thresholds = roc_curve(y_test, y_pred_prob)\n",
    "print(\"ROC-AUC: \",auc(fpr, tpr))# AUC of ROC\n",
    "\n",
    "#Computing the precision and recall\n",
    "print(\"Precision: \", precision_score(y_test, y_pred))\n",
    "print(\"Recall: \", recall_score(y_test, y_pred))\n",
    "\n",
    "#Confusion matrix\n",
    "cm = pd.DataFrame(confusion_matrix(y_test, y_pred), \n",
    "                  columns=['Predicted 0', 'Predicted 1'], index = ['Actual 0', 'Actual 1'])\n",
    "sns.heatmap(cm, annot=True, cmap='Blues', fmt='g');"
   ]
  }
 ],
 "metadata": {
  "colab": {
   "provenance": []
  },
  "kernelspec": {
   "display_name": "Python 3 (ipykernel)",
   "language": "python",
   "name": "python3"
  },
  "language_info": {
   "codemirror_mode": {
    "name": "ipython",
    "version": 3
   },
   "file_extension": ".py",
   "mimetype": "text/x-python",
   "name": "python",
   "nbconvert_exporter": "python",
   "pygments_lexer": "ipython3",
   "version": "3.9.12"
  }
 },
 "nbformat": 4,
 "nbformat_minor": 1
}
